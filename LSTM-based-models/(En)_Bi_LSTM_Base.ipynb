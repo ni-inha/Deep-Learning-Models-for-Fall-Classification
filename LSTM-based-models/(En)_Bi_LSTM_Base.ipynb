{
  "nbformat": 4,
  "nbformat_minor": 0,
  "metadata": {
    "colab": {
      "provenance": []
    },
    "kernelspec": {
      "name": "python3",
      "display_name": "Python 3"
    },
    "language_info": {
      "name": "python"
    },
    "accelerator": "GPU",
    "gpuClass": "standard"
  },
  "cells": [
    {
      "cell_type": "markdown",
      "source": [
        "#ENG Bi-LSTM BASED 목차\n",
        "## 데이터 이해 및 전처리 과정\n",
        ">1. 데이터 로드 및 필요한 라이브러리 호출\n",
        ">2. 데이터 정제하기\n",
        ">3. 토큰화\n",
        ">4. 인코딩\n",
        ">5. 패딩 작업\n",
        "## Bi-LSTM을 베이스로 한 모델 구축\n",
        ">1. 베스트모델 학습\n",
        ">2. 모델에 예시 적용 및 예측"
      ],
      "metadata": {
        "id": "3H0Dz7NT-sqI"
      }
    },
    {
      "cell_type": "markdown",
      "source": [
        "**데이터 이해 및 전처리 과정**"
      ],
      "metadata": {
        "id": "QXbyknX0L2FN"
      }
    },
    {
      "cell_type": "code",
      "execution_count": 1,
      "metadata": {
        "colab": {
          "base_uri": "https://localhost:8080/"
        },
        "id": "X7q4Hm2izY28",
        "outputId": "1eb72bf1-4766-4963-cd7f-64ceda0bd0b9"
      },
      "outputs": [
        {
          "output_type": "stream",
          "name": "stdout",
          "text": [
            "Looking in indexes: https://pypi.org/simple, https://us-python.pkg.dev/colab-wheels/public/simple/\n",
            "Collecting konlpy\n",
            "  Downloading konlpy-0.6.0-py2.py3-none-any.whl (19.4 MB)\n",
            "\u001b[2K     \u001b[90m━━━━━━━━━━━━━━━━━━━━━━━━━━━━━━━━━━━━━━━━\u001b[0m \u001b[32m19.4/19.4 MB\u001b[0m \u001b[31m73.6 MB/s\u001b[0m eta \u001b[36m0:00:00\u001b[0m\n",
            "\u001b[?25hRequirement already satisfied: numpy>=1.6 in /usr/local/lib/python3.8/dist-packages (from konlpy) (1.21.6)\n",
            "Requirement already satisfied: lxml>=4.1.0 in /usr/local/lib/python3.8/dist-packages (from konlpy) (4.9.2)\n",
            "Collecting JPype1>=0.7.0\n",
            "  Downloading JPype1-1.4.1-cp38-cp38-manylinux_2_12_x86_64.manylinux2010_x86_64.whl (465 kB)\n",
            "\u001b[2K     \u001b[90m━━━━━━━━━━━━━━━━━━━━━━━━━━━━━━━━━━━━━━\u001b[0m \u001b[32m465.6/465.6 KB\u001b[0m \u001b[31m49.2 MB/s\u001b[0m eta \u001b[36m0:00:00\u001b[0m\n",
            "\u001b[?25hRequirement already satisfied: packaging in /usr/local/lib/python3.8/dist-packages (from JPype1>=0.7.0->konlpy) (21.3)\n",
            "Requirement already satisfied: pyparsing!=3.0.5,>=2.0.2 in /usr/local/lib/python3.8/dist-packages (from packaging->JPype1>=0.7.0->konlpy) (3.0.9)\n",
            "Installing collected packages: JPype1, konlpy\n",
            "Successfully installed JPype1-1.4.1 konlpy-0.6.0\n"
          ]
        }
      ],
      "source": [
        "!pip install konlpy"
      ]
    },
    {
      "cell_type": "code",
      "source": [
        "# DATA_TYPE = \"anonym\"\n",
        "# LANGUAGE = \"ko\""
      ],
      "metadata": {
        "id": "D7ALnBLR0-SR"
      },
      "execution_count": 2,
      "outputs": []
    },
    {
      "cell_type": "code",
      "source": [
        "DATA_TYPE = \"translation\"\n",
        "LANGUAGE = \"en\""
      ],
      "metadata": {
        "id": "MKPcrgPF1AtT"
      },
      "execution_count": 3,
      "outputs": []
    },
    {
      "cell_type": "markdown",
      "source": [
        "1. 데이터 로드 및 필요한 라이브러리 호출"
      ],
      "metadata": {
        "id": "bOSHZOZAMEk8"
      }
    },
    {
      "cell_type": "code",
      "source": [
        "import pandas as pd\n",
        "import numpy as np\n",
        "import matplotlib.pyplot as plt\n",
        "import re\n",
        "import os\n",
        "import tensorflow as tf\n",
        "import matplotlib.pyplot as plt\n",
        "from konlpy.tag import Okt\n",
        "from tqdm import tqdm\n",
        "from tensorflow.keras.preprocessing.text import Tokenizer\n",
        "from tensorflow.keras.preprocessing.sequence import pad_sequences\n",
        "from sklearn.model_selection import train_test_split"
      ],
      "metadata": {
        "id": "ryA_QBOs9lDI"
      },
      "execution_count": 4,
      "outputs": []
    },
    {
      "cell_type": "code",
      "source": [
        "total_data = pd.read_csv(\"/content/dataset_10116_34477.csv\")  #데이터 파일 불러오기"
      ],
      "metadata": {
        "id": "Lz7-Hche-PMv"
      },
      "execution_count": 5,
      "outputs": []
    },
    {
      "cell_type": "code",
      "source": [
        "#total_data[:5] #상위 데이터 확인"
      ],
      "metadata": {
        "id": "7wPBanl44rWg"
      },
      "execution_count": 6,
      "outputs": []
    },
    {
      "cell_type": "markdown",
      "source": [
        "2. 데이터 정제하기"
      ],
      "metadata": {
        "id": "wOrYFRfEMREN"
      }
    },
    {
      "cell_type": "code",
      "source": [
        "RANDOM_STATE = 42"
      ],
      "metadata": {
        "id": "EL30PMgx-17R"
      },
      "execution_count": 7,
      "outputs": []
    },
    {
      "cell_type": "code",
      "source": [
        "X = total_data\n",
        "y = total_data['label']\n",
        "\n",
        "# Split total_data\n",
        "# Train : Test = 8 : 2\n",
        "train_data, test_data, y_train, y_test=train_test_split(X, y, \n",
        "                                                        test_size=0.2, \n",
        "                                                        shuffle=True,\n",
        "                                                        stratify=y,\n",
        "                                                        random_state=RANDOM_STATE)\n",
        "\n",
        "train_data = train_data.reset_index()\n",
        "# valid_data = valid_data.reset_index()\n",
        "test_data  = test_data.reset_index()\n",
        "\n",
        "y_train = y_train.reset_index()['label']\n",
        "# y_valid = y_valid.reset_index()['label']\n",
        "y_test  = y_test.reset_index()['label']\n",
        "\n",
        "print(f'--- Rate of Falls in Train Datasets (N = {len(y_train)}) ---')\n",
        "print(f'Non-Fall Data (label : 0) = {y_train.value_counts()[0]} ({round(y_train.value_counts()[0]/len(y_train) * 100,3)})%')\n",
        "print(f'    Fall Data (label : 1) = {y_train.value_counts()[1]} ({round(y_train.value_counts()[1]/len(y_train) * 100,3)})%')\n",
        "print()\n",
        "# print(f'--- Rate of Falls in Validation Datasets (N = {len(y_valid)}) ---')\n",
        "# print(f'Non-Fall Data (label : 0) = {y_valid.value_counts()[0]} ({round(y_valid.value_counts()[0]/len(y_valid) * 100,3)})%')\n",
        "# print(f'    Fall Data (label : 1) = {y_valid.value_counts()[1]} ({round(y_valid.value_counts()[1]/len(y_valid) * 100,3)})%')\n",
        "print()\n",
        "print(f'--- Rate of Falls in Test Datasets (N = {len(y_test)}) ---')\n",
        "print(f'Non-Fall Data (label : 0) = {y_test.value_counts()[0]} ({round(y_test.value_counts()[0]/len(y_test) * 100,3)})%')\n",
        "print(f'    Fall Data (label : 1) = {y_test.value_counts()[1]} ({round(y_test.value_counts()[1]/len(y_test) * 100,3)})%')"
      ],
      "metadata": {
        "colab": {
          "base_uri": "https://localhost:8080/"
        },
        "id": "KWV_EH98MWWv",
        "outputId": "482e1656-76b6-495d-f614-f0ece2b1a56d"
      },
      "execution_count": 8,
      "outputs": [
        {
          "output_type": "stream",
          "name": "stdout",
          "text": [
            "--- Rate of Falls in Train Datasets (N = 27581) ---\n",
            "Non-Fall Data (label : 0) = 19488 (70.657)%\n",
            "    Fall Data (label : 1) = 8093 (29.343)%\n",
            "\n",
            "\n",
            "--- Rate of Falls in Test Datasets (N = 6896) ---\n",
            "Non-Fall Data (label : 0) = 4873 (70.664)%\n",
            "    Fall Data (label : 1) = 2023 (29.336)%\n"
          ]
        }
      ]
    },
    {
      "cell_type": "code",
      "source": [
        "print('훈련용 데이터 개수 :', len(train_data)) # 훈련용 데이터 개수 출력"
      ],
      "metadata": {
        "colab": {
          "base_uri": "https://localhost:8080/"
        },
        "id": "q4X8nXVeMYbo",
        "outputId": "b93e99d2-4dcc-4492-f3fd-b08d797d5d3e"
      },
      "execution_count": 9,
      "outputs": [
        {
          "output_type": "stream",
          "name": "stdout",
          "text": [
            "훈련용 데이터 개수 : 27581\n"
          ]
        }
      ]
    },
    {
      "cell_type": "code",
      "source": [
        "print('테스트용 데이터 개수 :',len(test_data)) # 테스트용 데이터 개수 출력"
      ],
      "metadata": {
        "colab": {
          "base_uri": "https://localhost:8080/"
        },
        "id": "B7BuxbHCMdqd",
        "outputId": "b0b9b0ba-79c9-4ddb-ad93-1096151e07de"
      },
      "execution_count": 10,
      "outputs": [
        {
          "output_type": "stream",
          "name": "stdout",
          "text": [
            "테스트용 데이터 개수 : 6896\n"
          ]
        }
      ]
    },
    {
      "cell_type": "code",
      "source": [
        "#train_data[:5]"
      ],
      "metadata": {
        "id": "gfLQ3K6KhbhM"
      },
      "execution_count": 11,
      "outputs": []
    },
    {
      "cell_type": "code",
      "source": [
        "train_data['anonym'].nunique(), train_data['label'].nunique()\n",
        "# anonym 열, label 열의 중복을 제외한 값의 개수 "
      ],
      "metadata": {
        "colab": {
          "base_uri": "https://localhost:8080/"
        },
        "id": "slAHCVMM5AXP",
        "outputId": "1b9cd7c4-ddc5-4b21-e4f0-a3c8253da9a7"
      },
      "execution_count": 12,
      "outputs": [
        {
          "output_type": "execute_result",
          "data": {
            "text/plain": [
              "(26045, 2)"
            ]
          },
          "metadata": {},
          "execution_count": 12
        }
      ]
    },
    {
      "cell_type": "code",
      "source": [
        "train_data.drop_duplicates(subset=['anonym'], inplace=True)\n",
        "#앞선 27581개와와 차이가 난 만큼 중복제거"
      ],
      "metadata": {
        "id": "qpsH2_Gt5Bqa"
      },
      "execution_count": 13,
      "outputs": []
    },
    {
      "cell_type": "code",
      "source": [
        "print('총 샘플의 수 :',len(train_data))"
      ],
      "metadata": {
        "colab": {
          "base_uri": "https://localhost:8080/"
        },
        "id": "91DrUtrK5Cnp",
        "outputId": "dc03b1c4-f7f4-4482-c3c6-18f10da89007"
      },
      "execution_count": 14,
      "outputs": [
        {
          "output_type": "stream",
          "name": "stdout",
          "text": [
            "총 샘플의 수 : 26045\n"
          ]
        }
      ]
    },
    {
      "cell_type": "code",
      "source": [
        "train_data['label'].value_counts().plot(kind = 'bar') #낙상사고 비율 확인"
      ],
      "metadata": {
        "colab": {
          "base_uri": "https://localhost:8080/",
          "height": 280
        },
        "id": "E0zwb6IU5Dyh",
        "outputId": "e611d22c-5234-43c1-f0a6-f31f11b4133f"
      },
      "execution_count": 15,
      "outputs": [
        {
          "output_type": "execute_result",
          "data": {
            "text/plain": [
              "<matplotlib.axes._subplots.AxesSubplot at 0x7fbb38aeb190>"
            ]
          },
          "metadata": {},
          "execution_count": 15
        },
        {
          "output_type": "display_data",
          "data": {
            "text/plain": [
              "<Figure size 432x288 with 1 Axes>"
            ],
            "image/png": "[encoded data removed]"
          },
          "metadata": {
            "needs_background": "light"
          }
        }
      ]
    },
    {
      "cell_type": "code",
      "source": [
        "print(train_data.groupby('label').size().reset_index(name = 'count'))"
      ],
      "metadata": {
        "colab": {
          "base_uri": "https://localhost:8080/"
        },
        "id": "jSgYJ-al5FJL",
        "outputId": "d1f66271-339c-4202-cfc0-f8352033e702"
      },
      "execution_count": 16,
      "outputs": [
        {
          "output_type": "stream",
          "name": "stdout",
          "text": [
            "   label  count\n",
            "0      0  17965\n",
            "1      1   8080\n"
          ]
        }
      ]
    },
    {
      "cell_type": "code",
      "source": [
        "print(train_data.isnull().values.any()) #null 값이 있는 지 한번 더 확인인"
      ],
      "metadata": {
        "colab": {
          "base_uri": "https://localhost:8080/"
        },
        "id": "8JVNQkFuMe2u",
        "outputId": "2c408ca8-d4fe-48df-aaf4-5c32f03720bc"
      },
      "execution_count": 17,
      "outputs": [
        {
          "output_type": "stream",
          "name": "stdout",
          "text": [
            "False\n"
          ]
        }
      ]
    },
    {
      "cell_type": "code",
      "source": [
        "print(train_data.isnull().sum()) #2번째 확인인"
      ],
      "metadata": {
        "colab": {
          "base_uri": "https://localhost:8080/"
        },
        "id": "FvJhd3BFMf3Q",
        "outputId": "c701396f-6bca-4b9c-b7b3-c42844da56b8"
      },
      "execution_count": 18,
      "outputs": [
        {
          "output_type": "stream",
          "name": "stdout",
          "text": [
            "index             0\n",
            "HOSPITAL          0\n",
            "label             0\n",
            "note              0\n",
            "anonym            0\n",
            "translation       0\n",
            "#ProcessedData    0\n",
            "#TokenizedData    0\n",
            "dtype: int64\n"
          ]
        }
      ]
    },
    {
      "cell_type": "code",
      "source": [
        "train_data.loc[train_data.anonym.isnull()] #3번째 확인인"
      ],
      "metadata": {
        "colab": {
          "base_uri": "https://localhost:8080/",
          "height": 49
        },
        "id": "nOfTh6tdMg7P",
        "outputId": "1559f05e-d21b-4a32-e3b5-03a52d49d734"
      },
      "execution_count": 19,
      "outputs": [
        {
          "output_type": "execute_result",
          "data": {
            "text/plain": [
              "Empty DataFrame\n",
              "Columns: [index, HOSPITAL, label, note, anonym, translation, #ProcessedData, #TokenizedData]\n",
              "Index: []"
            ],
            "text/html": [
              "\n",
              "  <div id=\"df-4c4db54e-7eb9-4783-9aca-4feb810ab552\">\n",
              "    <div class=\"colab-df-container\">\n",
              "      <div>\n",
              "<style scoped>\n",
              "    .dataframe tbody tr th:only-of-type {\n",
              "        vertical-align: middle;\n",
              "    }\n",
              "\n",
              "    .dataframe tbody tr th {\n",
              "        vertical-align: top;\n",
              "    }\n",
              "\n",
              "    .dataframe thead th {\n",
              "        text-align: right;\n",
              "    }\n",
              "</style>\n",
              "<table border=\"1\" class=\"dataframe\">\n",
              "  <thead>\n",
              "    <tr style=\"text-align: right;\">\n",
              "      <th></th>\n",
              "      <th>index</th>\n",
              "      <th>HOSPITAL</th>\n",
              "      <th>label</th>\n",
              "      <th>note</th>\n",
              "      <th>anonym</th>\n",
              "      <th>translation</th>\n",
              "      <th>#ProcessedData</th>\n",
              "      <th>#TokenizedData</th>\n",
              "    </tr>\n",
              "  </thead>\n",
              "  <tbody>\n",
              "  </tbody>\n",
              "</table>\n",
              "</div>\n",
              "      <button class=\"colab-df-convert\" onclick=\"convertToInteractive('df-4c4db54e-7eb9-4783-9aca-4feb810ab552')\"\n",
              "              title=\"Convert this dataframe to an interactive table.\"\n",
              "              style=\"display:none;\">\n",
              "        \n",
              "  <svg xmlns=\"http://www.w3.org/2000/svg\" height=\"24px\"viewBox=\"0 0 24 24\"\n",
              "       width=\"24px\">\n",
              "    <path d=\"M0 0h24v24H0V0z\" fill=\"none\"/>\n",
              "    <path d=\"M18.56 5.44l.94 2.06.94-2.06 2.06-.94-2.06-.94-.94-2.06-.94 2.06-2.06.94zm-11 1L8.5 8.5l.94-2.06 2.06-.94-2.06-.94L8.5 2.5l-.94 2.06-2.06.94zm10 10l.94 2.06.94-2.06 2.06-.94-2.06-.94-.94-2.06-.94 2.06-2.06.94z\"/><path d=\"M17.41 7.96l-1.37-1.37c-.4-.4-.92-.59-1.43-.59-.52 0-1.04.2-1.43.59L10.3 9.45l-7.72 7.72c-.78.78-.78 2.05 0 2.83L4 21.41c.39.39.9.59 1.41.59.51 0 1.02-.2 1.41-.59l7.78-7.78 2.81-2.81c.8-.78.8-2.07 0-2.86zM5.41 20L4 18.59l7.72-7.72 1.47 1.35L5.41 20z\"/>\n",
              "  </svg>\n",
              "      </button>\n",
              "      \n",
              "  <style>\n",
              "    .colab-df-container {\n",
              "      display:flex;\n",
              "      flex-wrap:wrap;\n",
              "      gap: 12px;\n",
              "    }\n",
              "\n",
              "    .colab-df-convert {\n",
              "      background-color: #E8F0FE;\n",
              "      border: none;\n",
              "      border-radius: 50%;\n",
              "      cursor: pointer;\n",
              "      display: none;\n",
              "      fill: #1967D2;\n",
              "      height: 32px;\n",
              "      padding: 0 0 0 0;\n",
              "      width: 32px;\n",
              "    }\n",
              "\n",
              "    .colab-df-convert:hover {\n",
              "      background-color: #E2EBFA;\n",
              "      box-shadow: 0px 1px 2px rgba(60, 64, 67, 0.3), 0px 1px 3px 1px rgba(60, 64, 67, 0.15);\n",
              "      fill: #174EA6;\n",
              "    }\n",
              "\n",
              "    [theme=dark] .colab-df-convert {\n",
              "      background-color: #3B4455;\n",
              "      fill: #D2E3FC;\n",
              "    }\n",
              "\n",
              "    [theme=dark] .colab-df-convert:hover {\n",
              "      background-color: #434B5C;\n",
              "      box-shadow: 0px 1px 3px 1px rgba(0, 0, 0, 0.15);\n",
              "      filter: drop-shadow(0px 1px 2px rgba(0, 0, 0, 0.3));\n",
              "      fill: #FFFFFF;\n",
              "    }\n",
              "  </style>\n",
              "\n",
              "      <script>\n",
              "        const buttonEl =\n",
              "          document.querySelector('#df-4c4db54e-7eb9-4783-9aca-4feb810ab552 button.colab-df-convert');\n",
              "        buttonEl.style.display =\n",
              "          google.colab.kernel.accessAllowed ? 'block' : 'none';\n",
              "\n",
              "        async function convertToInteractive(key) {\n",
              "          const element = document.querySelector('#df-4c4db54e-7eb9-4783-9aca-4feb810ab552');\n",
              "          const dataTable =\n",
              "            await google.colab.kernel.invokeFunction('convertToInteractive',\n",
              "                                                     [key], {});\n",
              "          if (!dataTable) return;\n",
              "\n",
              "          const docLinkHtml = 'Like what you see? Visit the ' +\n",
              "            '<a target=\"_blank\" href=https://colab.research.google.com/notebooks/data_table.ipynb>data table notebook</a>'\n",
              "            + ' to learn more about interactive tables.';\n",
              "          element.innerHTML = '';\n",
              "          dataTable['output_type'] = 'display_data';\n",
              "          await google.colab.output.renderOutput(dataTable, element);\n",
              "          const docLink = document.createElement('div');\n",
              "          docLink.innerHTML = docLinkHtml;\n",
              "          element.appendChild(docLink);\n",
              "        }\n",
              "      </script>\n",
              "    </div>\n",
              "  </div>\n",
              "  "
            ]
          },
          "metadata": {},
          "execution_count": 19
        }
      ]
    },
    {
      "cell_type": "code",
      "source": [
        "train_data = train_data.dropna(how = 'any') # Null 값이 존재하는 행 제거\n",
        "print(train_data.isnull().values.any()) # Null 값이 존재하는지 확인"
      ],
      "metadata": {
        "colab": {
          "base_uri": "https://localhost:8080/"
        },
        "id": "OjkV-c9MMh3P",
        "outputId": "9530b479-58d1-44a2-b27f-0a4f4c7c073f"
      },
      "execution_count": 20,
      "outputs": [
        {
          "output_type": "stream",
          "name": "stdout",
          "text": [
            "False\n"
          ]
        }
      ]
    },
    {
      "cell_type": "code",
      "source": [
        "#영어와 공백을 제외하고 모두 제거\n",
        "#train_data['anonym'] = train_data['anonym'].str.replace(\"[^ㄱ-ㅎㅏ-ㅣ가-힣 ]\",\"\")\n",
        "#train_data[:5]"
      ],
      "metadata": {
        "id": "yIKF9Xsw5Oq8"
      },
      "execution_count": 21,
      "outputs": []
    },
    {
      "cell_type": "code",
      "source": [
        "train_data['anonym'] = train_data['anonym'].str.replace('^ +', \"\") # white space 데이터를 empty value로 변경\n",
        "train_data['anonym'].replace('', np.nan, inplace=True)\n",
        "print(train_data.isnull().sum())"
      ],
      "metadata": {
        "colab": {
          "base_uri": "https://localhost:8080/"
        },
        "id": "c15pR_L45TrZ",
        "outputId": "94ee29af-1c77-4790-e441-ed1969a280f2"
      },
      "execution_count": 22,
      "outputs": [
        {
          "output_type": "stream",
          "name": "stdout",
          "text": [
            "index             0\n",
            "HOSPITAL          0\n",
            "label             0\n",
            "note              0\n",
            "anonym            0\n",
            "translation       0\n",
            "#ProcessedData    0\n",
            "#TokenizedData    0\n",
            "dtype: int64\n"
          ]
        },
        {
          "output_type": "stream",
          "name": "stderr",
          "text": [
            "<ipython-input-22-310879df2702>:1: FutureWarning: The default value of regex will change from True to False in a future version.\n",
            "  train_data['anonym'] = train_data['anonym'].str.replace('^ +', \"\") # white space 데이터를 empty value로 변경\n"
          ]
        }
      ]
    },
    {
      "cell_type": "markdown",
      "source": [
        "3.토큰화"
      ],
      "metadata": {
        "id": "Q8lhpI6UMinG"
      }
    },
    {
      "cell_type": "code",
      "source": [
        "stopwords = [] #영어에는 불용어가 딱히 없다."
      ],
      "metadata": {
        "id": "i0j1t7Wm7_0A"
      },
      "execution_count": 23,
      "outputs": []
    },
    {
      "cell_type": "code",
      "source": [
        "okt = Okt()\n",
        "okt.morphs('와 이런 것도 영화라고 차라리 뮤직비디오를 만드는 게 나을 뻔', stem = True)"
      ],
      "metadata": {
        "colab": {
          "base_uri": "https://localhost:8080/"
        },
        "id": "HTRb5s5w8LEw",
        "outputId": "20d06b1b-9114-49fe-cee4-23f78015d2fe"
      },
      "execution_count": 24,
      "outputs": [
        {
          "output_type": "execute_result",
          "data": {
            "text/plain": [
              "['오다', '이렇다', '것', '도', '영화', '라고', '차라리', '뮤직비디오', '를', '만들다', '게', '나다', '뻔']"
            ]
          },
          "metadata": {},
          "execution_count": 24
        }
      ]
    },
    {
      "cell_type": "code",
      "source": [
        "X_train = []\n",
        "for sentence in tqdm(train_data['anonym']):\n",
        "    tokenized_sentence = okt.morphs(sentence, stem=True) # 토큰화\n",
        "    stopwords_removed_sentence = [word for word in tokenized_sentence if not word in stopwords] # 불용어 제거\n",
        "    X_train.append(stopwords_removed_sentence)"
      ],
      "metadata": {
        "colab": {
          "base_uri": "https://localhost:8080/"
        },
        "id": "YsBGkYD15XUo",
        "outputId": "b9ec50b4-33bf-4179-8fcd-f0ea1dc5d2d0"
      },
      "execution_count": 25,
      "outputs": [
        {
          "output_type": "stream",
          "name": "stderr",
          "text": [
            "100%|██████████| 26045/26045 [02:30<00:00, 173.04it/s]\n"
          ]
        }
      ]
    },
    {
      "cell_type": "code",
      "source": [
        "#print(X_train[:3])\n"
      ],
      "metadata": {
        "id": "IOasHO915YaR"
      },
      "execution_count": 26,
      "outputs": []
    },
    {
      "cell_type": "code",
      "source": [
        "X_test = []\n",
        "for sentence in tqdm(test_data['anonym']):\n",
        "    tokenized_sentence = okt.morphs(sentence, stem=True) # 토큰화\n",
        "    stopwords_removed_sentence = [word for word in tokenized_sentence if not word in stopwords] # 불용어 제거\n",
        "    X_test.append(stopwords_removed_sentence)"
      ],
      "metadata": {
        "colab": {
          "base_uri": "https://localhost:8080/"
        },
        "id": "J3JchSSV5ZXC",
        "outputId": "e1465730-9c14-4994-90f8-f318fb795feb"
      },
      "execution_count": 27,
      "outputs": [
        {
          "output_type": "stream",
          "name": "stderr",
          "text": [
            "100%|██████████| 6896/6896 [00:40<00:00, 168.37it/s]\n"
          ]
        }
      ]
    },
    {
      "cell_type": "markdown",
      "source": [
        "4.인코딩"
      ],
      "metadata": {
        "id": "TR8w9xbbMot0"
      }
    },
    {
      "cell_type": "code",
      "source": [
        "tokenizer = Tokenizer()\n",
        "tokenizer.fit_on_texts(X_train) #각 단어에 고유한 정수 부여여"
      ],
      "metadata": {
        "id": "ZSAUqOtW5aey"
      },
      "execution_count": 28,
      "outputs": []
    },
    {
      "cell_type": "code",
      "source": [
        "#print(tokenizer.word_index)\n",
        "#가장 많이 나오는 단어들부터 작은 숫자가 매겨짐짐"
      ],
      "metadata": {
        "id": "srb7mwDG5bWd"
      },
      "execution_count": 29,
      "outputs": []
    },
    {
      "cell_type": "code",
      "source": [
        "tokenizer = Tokenizer() \n",
        "tokenizer.fit_on_texts(X_train)\n",
        "X_train = tokenizer.texts_to_sequences(X_train)\n",
        "X_test = tokenizer.texts_to_sequences(X_test) \n",
        "#케라스 토크나이저의 인자로 넘겨주고 텍스트 시퀀스를 정수 시퀀스로 변환합니다."
      ],
      "metadata": {
        "id": "X_k7N_eu5cWi"
      },
      "execution_count": 30,
      "outputs": []
    },
    {
      "cell_type": "code",
      "source": [
        "print(X_train[:3]) #각 샘플 내의 단어들은 각 단어에 대한 정수로 변환된 것을 확인"
      ],
      "metadata": {
        "colab": {
          "base_uri": "https://localhost:8080/"
        },
        "id": "nfCJYP0_5dau",
        "outputId": "341b0203-b2ab-45ee-d75e-553680c1f8d1"
      },
      "execution_count": 31,
      "outputs": [
        {
          "output_type": "stream",
          "name": "stdout",
          "text": [
            "[[38, 220, 3, 22, 12, 132, 187, 35, 826, 3149, 233, 87, 1, 12], [89, 501, 904, 619, 48, 4, 158, 208, 52, 4, 1191, 8, 2, 1, 224, 92, 149, 48, 4, 40, 208, 52, 4, 1796, 8, 183, 1, 52, 264, 425, 221, 94, 37, 182, 1, 48, 501, 425, 221, 109, 503, 3, 14, 321, 1, 89, 288, 1, 392, 195, 294, 48, 4, 40, 208, 52, 4, 121, 32, 48, 4, 40, 208, 52, 4, 121, 32, 3, 92, 149, 4, 1341, 8, 183, 1, 89, 136, 455, 221, 13, 1, 155, 191, 214, 23, 6, 27, 29, 2, 1, 495, 5, 1137, 3354, 128, 7, 94, 328, 1, 65, 15, 3476, 413, 1455, 3, 20, 674, 11, 134, 1, 2344, 2038, 14, 1, 20, 674, 11, 134, 1], [1323, 44, 477, 7, 188, 38, 84, 90, 26, 15, 393, 13, 1, 9, 96, 106, 1, 163, 23, 186, 5, 601, 6484, 2192, 17, 6, 51, 47, 24, 75, 61, 10027, 6, 97, 5, 82, 318, 3, 33, 2]]\n"
          ]
        }
      ]
    },
    {
      "cell_type": "code",
      "source": [
        "y_train = np.array(train_data['label'])\n",
        "y_test = np.array(test_data['label'])\n"
      ],
      "metadata": {
        "id": "qfUFIRY05eoS"
      },
      "execution_count": 32,
      "outputs": []
    },
    {
      "cell_type": "markdown",
      "source": [
        "5. 패딩작업"
      ],
      "metadata": {
        "id": "TmPieaP5Mxz4"
      }
    },
    {
      "cell_type": "code",
      "source": [
        "print('데이터의 최대 길이 :',max(len(review) for review in X_train))\n",
        "print('데이터터의 평균 길이 :',sum(map(len, X_train))/len(X_train))\n",
        "plt.hist([len(review) for review in X_train], bins=50)\n",
        "plt.xlabel('length of samples')\n",
        "plt.ylabel('number of samples')\n",
        "plt.show()\n",
        "#서로다른 길이를 맞추기 위해 패딩작업 진행 120이하로 구성.가장 많은 구성은 약 25정도."
      ],
      "metadata": {
        "colab": {
          "base_uri": "https://localhost:8080/",
          "height": 315
        },
        "id": "aXSsAqVh5fji",
        "outputId": "9dabebd8-6f44-47dc-8ff8-762483291145"
      },
      "execution_count": 33,
      "outputs": [
        {
          "output_type": "stream",
          "name": "stdout",
          "text": [
            "데이터의 최대 길이 : 513\n",
            "데이터터의 평균 길이 : 54.350854290650794\n"
          ]
        },
        {
          "output_type": "display_data",
          "data": {
            "text/plain": [
              "<Figure size 432x288 with 1 Axes>"
            ],
            "image/png": "[encoded data removed]"
          },
          "metadata": {
            "needs_background": "light"
          }
        }
      ]
    },
    {
      "cell_type": "markdown",
      "source": [
        "서로 다른 길이 샘플들의 길이를 패딩작업 시작.\n"
      ],
      "metadata": {
        "id": "8YxExW8iMl-m"
      }
    },
    {
      "cell_type": "markdown",
      "source": [
        "290이하의 길이가 전체적으로 분포 되어있으며 max는 513 M은 54\n"
      ],
      "metadata": {
        "id": "nQgo-u43M3y-"
      }
    },
    {
      "cell_type": "code",
      "source": [
        "def below_threshold_len(max_len, nested_list):\n",
        "  count = 0\n",
        "  for sentence in nested_list:\n",
        "    if(len(sentence) <= max_len):\n",
        "        count = count + 1\n",
        "  print('전체 샘플 중 길이가 %s 이하인 샘플의 비율: %s'%(max_len, (count / len(nested_list))*100))"
      ],
      "metadata": {
        "id": "Gem6VWRWMwK_"
      },
      "execution_count": 34,
      "outputs": []
    },
    {
      "cell_type": "code",
      "source": [
        "max_len = 230\n",
        "below_threshold_len(max_len, X_train)"
      ],
      "metadata": {
        "colab": {
          "base_uri": "https://localhost:8080/"
        },
        "id": "vYb68i5m5mPp",
        "outputId": "fd445cb2-e0be-4dfa-a657-941774d704ab"
      },
      "execution_count": 35,
      "outputs": [
        {
          "output_type": "stream",
          "name": "stdout",
          "text": [
            "전체 샘플 중 길이가 230 이하인 샘플의 비율: 99.56229602610865\n"
          ]
        }
      ]
    },
    {
      "cell_type": "markdown",
      "source": [
        "훈련용 데이터 99.56이 230이하의 길이를 가지므로 훈련용 데이터를 길이 230으로 패딩합니다.\n"
      ],
      "metadata": {
        "id": "KTLq2dzGNO61"
      }
    },
    {
      "cell_type": "code",
      "source": [
        "X_train = pad_sequences(X_train, maxlen=max_len)\n",
        "X_test = pad_sequences(X_test, maxlen=max_len)"
      ],
      "metadata": {
        "id": "9lm4epelq8iT"
      },
      "execution_count": 36,
      "outputs": []
    },
    {
      "cell_type": "code",
      "source": [
        "vocab_size = len(tokenizer.word_index) + 1"
      ],
      "metadata": {
        "id": "O-8j4ysKoUWe"
      },
      "execution_count": 37,
      "outputs": []
    },
    {
      "cell_type": "markdown",
      "source": [
        "---\n",
        "**Bi-LSTM을 베이스로 한 모델 구축**"
      ],
      "metadata": {
        "id": "O19_uE5QM3AV"
      }
    },
    {
      "cell_type": "code",
      "source": [
        "import re\n",
        "from tensorflow.keras.layers import Embedding, Dense, LSTM, Bidirectional\n",
        "from tensorflow.keras.models import Sequential\n",
        "from tensorflow.keras.models import load_model\n",
        "from tensorflow.keras.callbacks import EarlyStopping, ModelCheckpoint\n",
        "\n",
        "embedding_dim = 100\n",
        "hidden_units = 128\n",
        "\n",
        "model = Sequential()\n",
        "model.add(Embedding( vocab_size , embedding_dim))\n",
        "model.add(Bidirectional(LSTM(hidden_units))) # Bidirectional LSTM을 사용\n",
        "model.add(Dense(1, activation='sigmoid'))\n",
        "\n",
        "es = EarlyStopping(monitor='val_loss', mode='min', verbose=1, patience=4)\n",
        "mc = ModelCheckpoint('best_model.h5', monitor='val_acc', mode='max', verbose=1, save_best_only=True)\n",
        "\n",
        "# model.compile(optimizer='rmsprop', loss='binary_crossentropy', metrics=['acc'])\n",
        "model.compile(optimizer='rmsprop', loss='binary_crossentropy', \n",
        "              metrics=[tf.keras.metrics.Precision(name='precision'),\n",
        "                      tf.keras.metrics.Recall(name='recall'),\n",
        "                      tf.keras.metrics.FalsePositives(name='false_positives'),\n",
        "                      tf.keras.metrics.FalseNegatives(name='false_negatives'),\n",
        "                      'accuracy'],\n",
        "              )\n",
        "history = model.fit(X_train, y_train, epochs=15, callbacks=[es, mc], batch_size=256, validation_split=0.2)"
      ],
      "metadata": {
        "colab": {
          "base_uri": "https://localhost:8080/"
        },
        "id": "Ofve3zP8pIna",
        "outputId": "14e61f78-42ed-4047-eb81-ef825670d1a1"
      },
      "execution_count": 38,
      "outputs": [
        {
          "output_type": "stream",
          "name": "stdout",
          "text": [
            "Epoch 1/15\n",
            "82/82 [==============================] - ETA: 0s - loss: 0.2413 - precision: 0.9313 - recall: 0.7406 - false_positives: 353.0000 - false_negatives: 1676.0000 - accuracy: 0.9026"
          ]
        },
        {
          "output_type": "stream",
          "name": "stderr",
          "text": [
            "WARNING:tensorflow:Can save best model only with val_acc available, skipping.\n"
          ]
        },
        {
          "output_type": "stream",
          "name": "stdout",
          "text": [
            "\b\b\b\b\b\b\b\b\b\b\b\b\b\b\b\b\b\b\b\b\b\b\b\b\b\b\b\b\b\b\b\b\b\b\b\b\b\b\b\b\b\b\b\b\b\b\b\b\b\b\b\b\b\b\b\b\b\b\b\b\b\b\b\b\b\b\b\b\b\b\b\b\b\b\b\b\b\b\b\b\b\b\b\b\b\b\b\b\b\b\b\b\b\b\b\b\b\b\b\b\b\b\b\b\b\b\b\b\b\b\b\b\b\b\b\b\b\b\b\b\b\b\b\b\b\b\b\b\b\b\b\b\b\b\b\b\b\b\b\b\b\b\b\b\b\b\b\b\b\b\b\b\b\b\b\b\b\b\b\b\b\b\b\b\b\b\b\b\b\b\b\b\b\b\b\b\r82/82 [==============================] - 18s 80ms/step - loss: 0.2413 - precision: 0.9313 - recall: 0.7406 - false_positives: 353.0000 - false_negatives: 1676.0000 - accuracy: 0.9026 - val_loss: 0.1003 - val_precision: 0.9596 - val_recall: 0.9389 - val_false_positives: 64.0000 - val_false_negatives: 99.0000 - val_accuracy: 0.9687\n",
            "Epoch 2/15\n",
            "82/82 [==============================] - ETA: 0s - loss: 0.0561 - precision: 0.9690 - recall: 0.9780 - false_positives: 202.0000 - false_negatives: 142.0000 - accuracy: 0.9835"
          ]
        },
        {
          "output_type": "stream",
          "name": "stderr",
          "text": [
            "WARNING:tensorflow:Can save best model only with val_acc available, skipping.\n"
          ]
        },
        {
          "output_type": "stream",
          "name": "stdout",
          "text": [
            "\b\b\b\b\b\b\b\b\b\b\b\b\b\b\b\b\b\b\b\b\b\b\b\b\b\b\b\b\b\b\b\b\b\b\b\b\b\b\b\b\b\b\b\b\b\b\b\b\b\b\b\b\b\b\b\b\b\b\b\b\b\b\b\b\b\b\b\b\b\b\b\b\b\b\b\b\b\b\b\b\b\b\b\b\b\b\b\b\b\b\b\b\b\b\b\b\b\b\b\b\b\b\b\b\b\b\b\b\b\b\b\b\b\b\b\b\b\b\b\b\b\b\b\b\b\b\b\b\b\b\b\b\b\b\b\b\b\b\b\b\b\b\b\b\b\b\b\b\b\b\b\b\b\b\b\b\b\b\b\b\b\b\b\b\b\b\b\b\b\b\b\b\b\b\b\r82/82 [==============================] - 4s 50ms/step - loss: 0.0561 - precision: 0.9690 - recall: 0.9780 - false_positives: 202.0000 - false_negatives: 142.0000 - accuracy: 0.9835 - val_loss: 0.0475 - val_precision: 0.9737 - val_recall: 0.9821 - val_false_positives: 43.0000 - val_false_negatives: 29.0000 - val_accuracy: 0.9862\n",
            "Epoch 3/15\n",
            "82/82 [==============================] - ETA: 0s - loss: 0.0384 - precision: 0.9802 - recall: 0.9861 - false_positives: 129.0000 - false_negatives: 90.0000 - accuracy: 0.9895"
          ]
        },
        {
          "output_type": "stream",
          "name": "stderr",
          "text": [
            "WARNING:tensorflow:Can save best model only with val_acc available, skipping.\n"
          ]
        },
        {
          "output_type": "stream",
          "name": "stdout",
          "text": [
            "\b\b\b\b\b\b\b\b\b\b\b\b\b\b\b\b\b\b\b\b\b\b\b\b\b\b\b\b\b\b\b\b\b\b\b\b\b\b\b\b\b\b\b\b\b\b\b\b\b\b\b\b\b\b\b\b\b\b\b\b\b\b\b\b\b\b\b\b\b\b\b\b\b\b\b\b\b\b\b\b\b\b\b\b\b\b\b\b\b\b\b\b\b\b\b\b\b\b\b\b\b\b\b\b\b\b\b\b\b\b\b\b\b\b\b\b\b\b\b\b\b\b\b\b\b\b\b\b\b\b\b\b\b\b\b\b\b\b\b\b\b\b\b\b\b\b\b\b\b\b\b\b\b\b\b\b\b\b\b\b\b\b\b\b\b\b\b\b\b\b\b\b\b\b\r82/82 [==============================] - 4s 52ms/step - loss: 0.0384 - precision: 0.9802 - recall: 0.9861 - false_positives: 129.0000 - false_negatives: 90.0000 - accuracy: 0.9895 - val_loss: 0.0608 - val_precision: 0.9601 - val_recall: 0.9796 - val_false_positives: 66.0000 - val_false_negatives: 33.0000 - val_accuracy: 0.9810\n",
            "Epoch 4/15\n",
            "82/82 [==============================] - ETA: 0s - loss: 0.0326 - precision: 0.9851 - recall: 0.9858 - false_positives: 96.0000 - false_negatives: 92.0000 - accuracy: 0.9910"
          ]
        },
        {
          "output_type": "stream",
          "name": "stderr",
          "text": [
            "WARNING:tensorflow:Can save best model only with val_acc available, skipping.\n"
          ]
        },
        {
          "output_type": "stream",
          "name": "stdout",
          "text": [
            "\b\b\b\b\b\b\b\b\b\b\b\b\b\b\b\b\b\b\b\b\b\b\b\b\b\b\b\b\b\b\b\b\b\b\b\b\b\b\b\b\b\b\b\b\b\b\b\b\b\b\b\b\b\b\b\b\b\b\b\b\b\b\b\b\b\b\b\b\b\b\b\b\b\b\b\b\b\b\b\b\b\b\b\b\b\b\b\b\b\b\b\b\b\b\b\b\b\b\b\b\b\b\b\b\b\b\b\b\b\b\b\b\b\b\b\b\b\b\b\b\b\b\b\b\b\b\b\b\b\b\b\b\b\b\b\b\b\b\b\b\b\b\b\b\b\b\b\b\b\b\b\b\b\b\b\b\b\b\b\b\b\b\b\b\b\b\b\b\b\b\b\b\b\r82/82 [==============================] - 4s 49ms/step - loss: 0.0326 - precision: 0.9851 - recall: 0.9858 - false_positives: 96.0000 - false_negatives: 92.0000 - accuracy: 0.9910 - val_loss: 0.0464 - val_precision: 0.9702 - val_recall: 0.9846 - val_false_positives: 49.0000 - val_false_negatives: 25.0000 - val_accuracy: 0.9858\n",
            "Epoch 5/15\n",
            "82/82 [==============================] - ETA: 0s - loss: 0.0281 - precision: 0.9869 - recall: 0.9906 - false_positives: 85.0000 - false_negatives: 61.0000 - accuracy: 0.9930"
          ]
        },
        {
          "output_type": "stream",
          "name": "stderr",
          "text": [
            "WARNING:tensorflow:Can save best model only with val_acc available, skipping.\n"
          ]
        },
        {
          "output_type": "stream",
          "name": "stdout",
          "text": [
            "\b\b\b\b\b\b\b\b\b\b\b\b\b\b\b\b\b\b\b\b\b\b\b\b\b\b\b\b\b\b\b\b\b\b\b\b\b\b\b\b\b\b\b\b\b\b\b\b\b\b\b\b\b\b\b\b\b\b\b\b\b\b\b\b\b\b\b\b\b\b\b\b\b\b\b\b\b\b\b\b\b\b\b\b\b\b\b\b\b\b\b\b\b\b\b\b\b\b\b\b\b\b\b\b\b\b\b\b\b\b\b\b\b\b\b\b\b\b\b\b\b\b\b\b\b\b\b\b\b\b\b\b\b\b\b\b\b\b\b\b\b\b\b\b\b\b\b\b\b\b\b\b\b\b\b\b\b\b\b\b\b\b\b\b\b\b\b\b\b\b\b\b\b\r82/82 [==============================] - 4s 49ms/step - loss: 0.0281 - precision: 0.9869 - recall: 0.9906 - false_positives: 85.0000 - false_negatives: 61.0000 - accuracy: 0.9930 - val_loss: 0.0474 - val_precision: 0.9668 - val_recall: 0.9895 - val_false_positives: 55.0000 - val_false_negatives: 17.0000 - val_accuracy: 0.9862\n",
            "Epoch 6/15\n",
            "81/82 [============================>.] - ETA: 0s - loss: 0.0227 - precision: 0.9887 - recall: 0.9924 - false_positives: 73.0000 - false_negatives: 49.0000 - accuracy: 0.9941"
          ]
        },
        {
          "output_type": "stream",
          "name": "stderr",
          "text": [
            "WARNING:tensorflow:Can save best model only with val_acc available, skipping.\n"
          ]
        },
        {
          "output_type": "stream",
          "name": "stdout",
          "text": [
            "\b\b\b\b\b\b\b\b\b\b\b\b\b\b\b\b\b\b\b\b\b\b\b\b\b\b\b\b\b\b\b\b\b\b\b\b\b\b\b\b\b\b\b\b\b\b\b\b\b\b\b\b\b\b\b\b\b\b\b\b\b\b\b\b\b\b\b\b\b\b\b\b\b\b\b\b\b\b\b\b\b\b\b\b\b\b\b\b\b\b\b\b\b\b\b\b\b\b\b\b\b\b\b\b\b\b\b\b\b\b\b\b\b\b\b\b\b\b\b\b\b\b\b\b\b\b\b\b\b\b\b\b\b\b\b\b\b\b\b\b\b\b\b\b\b\b\b\b\b\b\b\b\b\b\b\b\b\b\b\b\b\b\b\b\b\b\b\b\b\b\b\b\b\r82/82 [==============================] - 4s 49ms/step - loss: 0.0226 - precision: 0.9887 - recall: 0.9924 - false_positives: 73.0000 - false_negatives: 49.0000 - accuracy: 0.9941 - val_loss: 0.0525 - val_precision: 0.9829 - val_recall: 0.9556 - val_false_positives: 27.0000 - val_false_negatives: 72.0000 - val_accuracy: 0.9810\n",
            "Epoch 7/15\n",
            "82/82 [==============================] - ETA: 0s - loss: 0.0184 - precision: 0.9912 - recall: 0.9930 - false_positives: 57.0000 - false_negatives: 45.0000 - accuracy: 0.9951"
          ]
        },
        {
          "output_type": "stream",
          "name": "stderr",
          "text": [
            "WARNING:tensorflow:Can save best model only with val_acc available, skipping.\n"
          ]
        },
        {
          "output_type": "stream",
          "name": "stdout",
          "text": [
            "\b\b\b\b\b\b\b\b\b\b\b\b\b\b\b\b\b\b\b\b\b\b\b\b\b\b\b\b\b\b\b\b\b\b\b\b\b\b\b\b\b\b\b\b\b\b\b\b\b\b\b\b\b\b\b\b\b\b\b\b\b\b\b\b\b\b\b\b\b\b\b\b\b\b\b\b\b\b\b\b\b\b\b\b\b\b\b\b\b\b\b\b\b\b\b\b\b\b\b\b\b\b\b\b\b\b\b\b\b\b\b\b\b\b\b\b\b\b\b\b\b\b\b\b\b\b\b\b\b\b\b\b\b\b\b\b\b\b\b\b\b\b\b\b\b\b\b\b\b\b\b\b\b\b\b\b\b\b\b\b\b\b\b\b\b\b\b\b\b\b\b\b\b\r82/82 [==============================] - 4s 50ms/step - loss: 0.0184 - precision: 0.9912 - recall: 0.9930 - false_positives: 57.0000 - false_negatives: 45.0000 - accuracy: 0.9951 - val_loss: 0.0471 - val_precision: 0.9767 - val_recall: 0.9815 - val_false_positives: 38.0000 - val_false_negatives: 30.0000 - val_accuracy: 0.9869\n",
            "Epoch 8/15\n",
            "82/82 [==============================] - ETA: 0s - loss: 0.0170 - precision: 0.9906 - recall: 0.9941 - false_positives: 61.0000 - false_negatives: 38.0000 - accuracy: 0.9952"
          ]
        },
        {
          "output_type": "stream",
          "name": "stderr",
          "text": [
            "WARNING:tensorflow:Can save best model only with val_acc available, skipping.\n"
          ]
        },
        {
          "output_type": "stream",
          "name": "stdout",
          "text": [
            "\b\b\b\b\b\b\b\b\b\b\b\b\b\b\b\b\b\b\b\b\b\b\b\b\b\b\b\b\b\b\b\b\b\b\b\b\b\b\b\b\b\b\b\b\b\b\b\b\b\b\b\b\b\b\b\b\b\b\b\b\b\b\b\b\b\b\b\b\b\b\b\b\b\b\b\b\b\b\b\b\b\b\b\b\b\b\b\b\b\b\b\b\b\b\b\b\b\b\b\b\b\b\b\b\b\b\b\b\b\b\b\b\b\b\b\b\b\b\b\b\b\b\b\b\b\b\b\b\b\b\b\b\b\b\b\b\b\b\b\b\b\b\b\b\b\b\b\b\b\b\b\b\b\b\b\b\b\b\b\b\b\b\b\b\b\b\b\b\b\b\b\b\b\r82/82 [==============================] - 4s 50ms/step - loss: 0.0170 - precision: 0.9906 - recall: 0.9941 - false_positives: 61.0000 - false_negatives: 38.0000 - accuracy: 0.9952 - val_loss: 0.0423 - val_precision: 0.9737 - val_recall: 0.9827 - val_false_positives: 43.0000 - val_false_negatives: 28.0000 - val_accuracy: 0.9864\n",
            "Epoch 9/15\n",
            "81/82 [============================>.] - ETA: 0s - loss: 0.0143 - precision: 0.9930 - recall: 0.9956 - false_positives: 45.0000 - false_negatives: 28.0000 - accuracy: 0.9965"
          ]
        },
        {
          "output_type": "stream",
          "name": "stderr",
          "text": [
            "WARNING:tensorflow:Can save best model only with val_acc available, skipping.\n"
          ]
        },
        {
          "output_type": "stream",
          "name": "stdout",
          "text": [
            "\b\b\b\b\b\b\b\b\b\b\b\b\b\b\b\b\b\b\b\b\b\b\b\b\b\b\b\b\b\b\b\b\b\b\b\b\b\b\b\b\b\b\b\b\b\b\b\b\b\b\b\b\b\b\b\b\b\b\b\b\b\b\b\b\b\b\b\b\b\b\b\b\b\b\b\b\b\b\b\b\b\b\b\b\b\b\b\b\b\b\b\b\b\b\b\b\b\b\b\b\b\b\b\b\b\b\b\b\b\b\b\b\b\b\b\b\b\b\b\b\b\b\b\b\b\b\b\b\b\b\b\b\b\b\b\b\b\b\b\b\b\b\b\b\b\b\b\b\b\b\b\b\b\b\b\b\b\b\b\b\b\b\b\b\b\b\b\b\b\b\b\b\b\r82/82 [==============================] - 4s 52ms/step - loss: 0.0143 - precision: 0.9931 - recall: 0.9957 - false_positives: 45.0000 - false_negatives: 28.0000 - accuracy: 0.9965 - val_loss: 0.0581 - val_precision: 0.9605 - val_recall: 0.9901 - val_false_positives: 66.0000 - val_false_negatives: 16.0000 - val_accuracy: 0.9843\n",
            "Epoch 10/15\n",
            "82/82 [==============================] - ETA: 0s - loss: 0.0116 - precision: 0.9947 - recall: 0.9958 - false_positives: 34.0000 - false_negatives: 27.0000 - accuracy: 0.9971"
          ]
        },
        {
          "output_type": "stream",
          "name": "stderr",
          "text": [
            "WARNING:tensorflow:Can save best model only with val_acc available, skipping.\n"
          ]
        },
        {
          "output_type": "stream",
          "name": "stdout",
          "text": [
            "\b\b\b\b\b\b\b\b\b\b\b\b\b\b\b\b\b\b\b\b\b\b\b\b\b\b\b\b\b\b\b\b\b\b\b\b\b\b\b\b\b\b\b\b\b\b\b\b\b\b\b\b\b\b\b\b\b\b\b\b\b\b\b\b\b\b\b\b\b\b\b\b\b\b\b\b\b\b\b\b\b\b\b\b\b\b\b\b\b\b\b\b\b\b\b\b\b\b\b\b\b\b\b\b\b\b\b\b\b\b\b\b\b\b\b\b\b\b\b\b\b\b\b\b\b\b\b\b\b\b\b\b\b\b\b\b\b\b\b\b\b\b\b\b\b\b\b\b\b\b\b\b\b\b\b\b\b\b\b\b\b\b\b\b\b\b\b\b\b\b\b\b\b\r82/82 [==============================] - 4s 50ms/step - loss: 0.0116 - precision: 0.9947 - recall: 0.9958 - false_positives: 34.0000 - false_negatives: 27.0000 - accuracy: 0.9971 - val_loss: 0.0552 - val_precision: 0.9777 - val_recall: 0.9759 - val_false_positives: 36.0000 - val_false_negatives: 39.0000 - val_accuracy: 0.9856\n",
            "Epoch 11/15\n",
            "82/82 [==============================] - ETA: 0s - loss: 0.0098 - precision: 0.9950 - recall: 0.9955 - false_positives: 32.0000 - false_negatives: 29.0000 - accuracy: 0.9971"
          ]
        },
        {
          "output_type": "stream",
          "name": "stderr",
          "text": [
            "WARNING:tensorflow:Can save best model only with val_acc available, skipping.\n"
          ]
        },
        {
          "output_type": "stream",
          "name": "stdout",
          "text": [
            "\b\b\b\b\b\b\b\b\b\b\b\b\b\b\b\b\b\b\b\b\b\b\b\b\b\b\b\b\b\b\b\b\b\b\b\b\b\b\b\b\b\b\b\b\b\b\b\b\b\b\b\b\b\b\b\b\b\b\b\b\b\b\b\b\b\b\b\b\b\b\b\b\b\b\b\b\b\b\b\b\b\b\b\b\b\b\b\b\b\b\b\b\b\b\b\b\b\b\b\b\b\b\b\b\b\b\b\b\b\b\b\b\b\b\b\b\b\b\b\b\b\b\b\b\b\b\b\b\b\b\b\b\b\b\b\b\b\b\b\b\b\b\b\b\b\b\b\b\b\b\b\b\b\b\b\b\b\b\b\b\b\b\b\b\b\b\b\b\b\b\b\b\b\r82/82 [==============================] - 4s 50ms/step - loss: 0.0098 - precision: 0.9950 - recall: 0.9955 - false_positives: 32.0000 - false_negatives: 29.0000 - accuracy: 0.9971 - val_loss: 0.0733 - val_precision: 0.9812 - val_recall: 0.9667 - val_false_positives: 30.0000 - val_false_negatives: 54.0000 - val_accuracy: 0.9839\n",
            "Epoch 12/15\n",
            "81/82 [============================>.] - ETA: 0s - loss: 0.0080 - precision: 0.9972 - recall: 0.9961 - false_positives: 18.0000 - false_negatives: 25.0000 - accuracy: 0.9979"
          ]
        },
        {
          "output_type": "stream",
          "name": "stderr",
          "text": [
            "WARNING:tensorflow:Can save best model only with val_acc available, skipping.\n"
          ]
        },
        {
          "output_type": "stream",
          "name": "stdout",
          "text": [
            "\b\b\b\b\b\b\b\b\b\b\b\b\b\b\b\b\b\b\b\b\b\b\b\b\b\b\b\b\b\b\b\b\b\b\b\b\b\b\b\b\b\b\b\b\b\b\b\b\b\b\b\b\b\b\b\b\b\b\b\b\b\b\b\b\b\b\b\b\b\b\b\b\b\b\b\b\b\b\b\b\b\b\b\b\b\b\b\b\b\b\b\b\b\b\b\b\b\b\b\b\b\b\b\b\b\b\b\b\b\b\b\b\b\b\b\b\b\b\b\b\b\b\b\b\b\b\b\b\b\b\b\b\b\b\b\b\b\b\b\b\b\b\b\b\b\b\b\b\b\b\b\b\b\b\b\b\b\b\b\b\b\b\b\b\b\b\b\b\b\b\b\b\b\r82/82 [==============================] - 4s 50ms/step - loss: 0.0083 - precision: 0.9971 - recall: 0.9961 - false_positives: 19.0000 - false_negatives: 25.0000 - accuracy: 0.9979 - val_loss: 0.0511 - val_precision: 0.9690 - val_recall: 0.9840 - val_false_positives: 51.0000 - val_false_negatives: 26.0000 - val_accuracy: 0.9852\n",
            "Epoch 12: early stopping\n"
          ]
        }
      ]
    },
    {
      "cell_type": "code",
      "source": [
        "model.save(\"my_model.h5\")\n",
        "#케라스형식 모델 저장 (bestmodel.h5에 자동 저장이 안되기 때문에에)"
      ],
      "metadata": {
        "id": "dAFSafn2rdGC"
      },
      "execution_count": 39,
      "outputs": []
    },
    {
      "cell_type": "code",
      "source": [
        "loaded_model = load_model('my_model.h5')\n",
        "print(\"\\n 테스트 정확도: %.4f\" % (loaded_model.evaluate(X_test, y_test)[1]))"
      ],
      "metadata": {
        "colab": {
          "base_uri": "https://localhost:8080/"
        },
        "id": "Xel-0DUurdIA",
        "outputId": "b4b0e446-7892-43a3-b40d-2e7559b64e46"
      },
      "execution_count": 40,
      "outputs": [
        {
          "output_type": "stream",
          "name": "stdout",
          "text": [
            "216/216 [==============================] - 4s 12ms/step - loss: 0.0496 - precision: 0.9707 - recall: 0.9832 - false_positives: 60.0000 - false_negatives: 34.0000 - accuracy: 0.9864\n",
            "\n",
            " 테스트 정확도: 0.9707\n"
          ]
        }
      ]
    },
    {
      "cell_type": "code",
      "source": [
        "def fall_predict(new_sentence):\n",
        "  new_sentence = re.sub(r'[^ㄱ-ㅎㅏ-ㅣ가-힣 ]','', new_sentence)\n",
        "  new_sentence = okt.morphs(new_sentence, stem=True) # 토큰화\n",
        "  new_sentence = [word for word in new_sentence if not word in stopwords] # 불용어 제거\n",
        "  encoded = tokenizer.texts_to_sequences([new_sentence]) # 정수 인코딩\n",
        "  pad_new = pad_sequences(encoded, maxlen = max_len) # 패딩\n",
        "  score = float(loaded_model.predict(pad_new)) # 예측\n",
        "  if(score > 0.5):\n",
        "    print(\"{:.2f}% 확률로 낙상사고입니다.\\n\".format(score * 100))\n",
        "  else:\n",
        "    print(\"{:.2f}% 확률로 낙상사고가 아닙니다.\\n\".format((1 - score) * 100))\n",
        "#(기본 구성이자 흐름)"
      ],
      "metadata": {
        "id": "yzJO9l3xrj87"
      },
      "execution_count": 41,
      "outputs": []
    },
    {
      "cell_type": "code",
      "source": [
        "fall_predict('와 이거 실화냐? 진짜 가슴이 웅장해진다 내가 생각했던 그 나투로와 사스케가 맞냐? 정말 세계관 최강자들의 싸움이다')"
      ],
      "metadata": {
        "colab": {
          "base_uri": "https://localhost:8080/"
        },
        "id": "ps1DPKe2rm4i",
        "outputId": "4ff7c41c-dfa7-4f62-fdcd-58b009c46f23"
      },
      "execution_count": 42,
      "outputs": [
        {
          "output_type": "stream",
          "name": "stdout",
          "text": [
            "1/1 [==============================] - 2s 2s/step\n",
            "99.00% 확률로 낙상사고가 아닙니다.\n",
            "\n"
          ]
        }
      ]
    },
    {
      "cell_type": "code",
      "source": [
        "fall_predict('병실에 보호자(아들) 있었으나 수면 중이었으며 올려져 있는 side rail사이의 54cm(발치 쪽)사이로 내려오다가  왼쪽 옆구리를 부딪힌 후 환자  움직이는 소리에 잠에서 깨어난 보호자와 함께 화장실 다녀 왔다함. 낙상 시 side rail에  Lt. flank 부딪혀 통증 있어 X-ray 촬영 후 협진 본 후 진통제 처방 남.')\n"
      ],
      "metadata": {
        "colab": {
          "base_uri": "https://localhost:8080/"
        },
        "id": "CK02Ze8jrqjq",
        "outputId": "5d63b085-8800-4fde-e267-7c46ea1a9213"
      },
      "execution_count": 43,
      "outputs": [
        {
          "output_type": "stream",
          "name": "stdout",
          "text": [
            "1/1 [==============================] - 0s 28ms/step\n",
            "99.93% 확률로 낙상사고입니다.\n",
            "\n"
          ]
        }
      ]
    },
    {
      "cell_type": "markdown",
      "source": [
        "F1_Score는 0.9769"
      ],
      "metadata": {
        "id": "hGDcjuq367mP"
      }
    }
  ]
}