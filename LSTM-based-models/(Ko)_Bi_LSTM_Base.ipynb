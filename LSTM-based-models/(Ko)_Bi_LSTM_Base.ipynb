{
  "nbformat": 4,
  "nbformat_minor": 0,
  "metadata": {
    "colab": {
      "provenance": []
    },
    "kernelspec": {
      "name": "python3",
      "display_name": "Python 3"
    },
    "language_info": {
      "name": "python"
    },
    "accelerator": "GPU",
    "gpuClass": "standard"
  },
  "cells": [
    {
      "cell_type": "markdown",
      "source": [
        "#KOR Bi-LSTM BASED\n",
        "## 데이터 이해 및 전처리 과정\n",
        ">1. 데이터 로드 및 필요한 라이브러리 호출\n",
        ">2. 데이터 정제하기\n",
        ">3. 토큰화\n",
        ">4. 인코딩\n",
        ">5. 패딩 작업\n",
        "## BILSTM을 베이스로 한 모델 구축\n",
        ">1. 베스트모델 학습\n",
        ">2. 모델에 예시 적용 및 예측"
      ],
      "metadata": {
        "id": "P0-sfsHOM3dv"
      }
    },
    {
      "cell_type": "markdown",
      "source": [
        "**데이터 이해 및 전처리 과정**"
      ],
      "metadata": {
        "id": "u4pNiEkDNgxE"
      }
    },
    {
      "cell_type": "code",
      "execution_count": 1,
      "metadata": {
        "id": "tPLoiriVzYF0"
      },
      "outputs": [],
      "source": [
        "DATA_TYPE = \"anonym\"\n",
        "LANGUAGE = \"ko\"\n",
        "#데이터 타입(언어어) 반영"
      ]
    },
    {
      "cell_type": "markdown",
      "source": [
        "1. 데이터 로드 및 필요한 라이브러리 호출"
      ],
      "metadata": {
        "id": "FUNUSfxJNjzf"
      }
    },
    {
      "cell_type": "code",
      "source": [
        "!pip install konlpy"
      ],
      "metadata": {
        "colab": {
          "base_uri": "https://localhost:8080/"
        },
        "id": "qldjC6ztX7NO",
        "outputId": "54a5b1d8-afec-47f6-be3c-64c04d357f00"
      },
      "execution_count": 2,
      "outputs": [
        {
          "output_type": "stream",
          "name": "stdout",
          "text": [
            "Looking in indexes: https://pypi.org/simple, https://us-python.pkg.dev/colab-wheels/public/simple/\n",
            "Collecting konlpy\n",
            "  Downloading konlpy-0.6.0-py2.py3-none-any.whl (19.4 MB)\n",
            "\u001b[2K     \u001b[90m━━━━━━━━━━━━━━━━━━━━━━━━━━━━━━━━━━━━━━━━\u001b[0m \u001b[32m19.4/19.4 MB\u001b[0m \u001b[31m65.6 MB/s\u001b[0m eta \u001b[36m0:00:00\u001b[0m\n",
            "\u001b[?25hCollecting JPype1>=0.7.0\n",
            "  Downloading JPype1-1.4.1-cp38-cp38-manylinux_2_12_x86_64.manylinux2010_x86_64.whl (465 kB)\n",
            "\u001b[2K     \u001b[90m━━━━━━━━━━━━━━━━━━━━━━━━━━━━━━━━━━━━━━\u001b[0m \u001b[32m465.6/465.6 KB\u001b[0m \u001b[31m45.4 MB/s\u001b[0m eta \u001b[36m0:00:00\u001b[0m\n",
            "\u001b[?25hRequirement already satisfied: numpy>=1.6 in /usr/local/lib/python3.8/dist-packages (from konlpy) (1.21.6)\n",
            "Requirement already satisfied: lxml>=4.1.0 in /usr/local/lib/python3.8/dist-packages (from konlpy) (4.9.2)\n",
            "Requirement already satisfied: packaging in /usr/local/lib/python3.8/dist-packages (from JPype1>=0.7.0->konlpy) (21.3)\n",
            "Requirement already satisfied: pyparsing!=3.0.5,>=2.0.2 in /usr/local/lib/python3.8/dist-packages (from packaging->JPype1>=0.7.0->konlpy) (3.0.9)\n",
            "Installing collected packages: JPype1, konlpy\n",
            "Successfully installed JPype1-1.4.1 konlpy-0.6.0\n"
          ]
        }
      ]
    },
    {
      "cell_type": "code",
      "source": [
        "import pandas as pd\n",
        "import numpy as np\n",
        "import matplotlib.pyplot as plt\n",
        "import re\n",
        "import os\n",
        "import tensorflow as tf\n",
        "import matplotlib.pyplot as plt\n",
        "from konlpy.tag import Okt\n",
        "from tqdm import tqdm\n",
        "from tensorflow.keras.preprocessing.text import Tokenizer\n",
        "from tensorflow.keras.preprocessing.sequence import pad_sequences\n",
        "from sklearn.model_selection import train_test_split"
      ],
      "metadata": {
        "id": "-gtRT4ByX6xI"
      },
      "execution_count": 3,
      "outputs": []
    },
    {
      "cell_type": "code",
      "source": [
        "total_data = pd.read_csv(\"/content/dataset_10116_34477.csv\")  #데이터 파일 불러오기"
      ],
      "metadata": {
        "id": "wnmEd0mKYVj_"
      },
      "execution_count": 4,
      "outputs": []
    },
    {
      "cell_type": "code",
      "source": [
        "#total_data[:5] #상위데이터 확인"
      ],
      "metadata": {
        "id": "hHwlkLKyZrM5"
      },
      "execution_count": 5,
      "outputs": []
    },
    {
      "cell_type": "code",
      "source": [
        "RANDOM_STATE = 42"
      ],
      "metadata": {
        "id": "rVW3TZTZwvED"
      },
      "execution_count": 6,
      "outputs": []
    },
    {
      "cell_type": "markdown",
      "source": [
        "2.데이터 정제하기"
      ],
      "metadata": {
        "id": "7YzGWGolNpDu"
      }
    },
    {
      "cell_type": "code",
      "source": [
        "X = total_data\n",
        "y = total_data['label']\n",
        "\n",
        "# 토탈 데이터를 학습용과 테스트용으로 8:2 비율에 맞춰 나눕니다.\n",
        "# Train : Test = 8 : 2\n",
        "train_data, test_data, y_train, y_test=train_test_split(X, y, \n",
        "                                                        test_size=0.2, \n",
        "                                                        shuffle=True,\n",
        "                                                        stratify=y,\n",
        "                                                        random_state=RANDOM_STATE)\n",
        "\n",
        "train_data = train_data.reset_index()\n",
        "# valid_data = valid_data.reset_index()\n",
        "test_data  = test_data.reset_index()\n",
        "\n",
        "y_train = y_train.reset_index()['label']\n",
        "# y_valid = y_valid.reset_index()['label']\n",
        "y_test  = y_test.reset_index()['label']\n",
        "\n",
        "print(f'--- Rate of Falls in Train Datasets (N = {len(y_train)}) ---')\n",
        "print(f'Non-Fall Data (label : 0) = {y_train.value_counts()[0]} ({round(y_train.value_counts()[0]/len(y_train) * 100,3)})%')\n",
        "print(f'    Fall Data (label : 1) = {y_train.value_counts()[1]} ({round(y_train.value_counts()[1]/len(y_train) * 100,3)})%')\n",
        "print()\n",
        "# print(f'--- Rate of Falls in Validation Datasets (N = {len(y_valid)}) ---')\n",
        "# print(f'Non-Fall Data (label : 0) = {y_valid.value_counts()[0]} ({round(y_valid.value_counts()[0]/len(y_valid) * 100,3)})%')\n",
        "# print(f'    Fall Data (label : 1) = {y_valid.value_counts()[1]} ({round(y_valid.value_counts()[1]/len(y_valid) * 100,3)})%')\n",
        "print()\n",
        "print(f'--- Rate of Falls in Test Datasets (N = {len(y_test)}) ---')\n",
        "print(f'Non-Fall Data (label : 0) = {y_test.value_counts()[0]} ({round(y_test.value_counts()[0]/len(y_test) * 100,3)})%')\n",
        "print(f'    Fall Data (label : 1) = {y_test.value_counts()[1]} ({round(y_test.value_counts()[1]/len(y_test) * 100,3)})%')"
      ],
      "metadata": {
        "colab": {
          "base_uri": "https://localhost:8080/"
        },
        "id": "nfCfyRevZxSM",
        "outputId": "737d6a92-f618-45c9-bb14-1a83afa7a1bb"
      },
      "execution_count": 7,
      "outputs": [
        {
          "output_type": "stream",
          "name": "stdout",
          "text": [
            "--- Rate of Falls in Train Datasets (N = 27581) ---\n",
            "Non-Fall Data (label : 0) = 19488 (70.657)%\n",
            "    Fall Data (label : 1) = 8093 (29.343)%\n",
            "\n",
            "\n",
            "--- Rate of Falls in Test Datasets (N = 6896) ---\n",
            "Non-Fall Data (label : 0) = 4873 (70.664)%\n",
            "    Fall Data (label : 1) = 2023 (29.336)%\n"
          ]
        }
      ]
    },
    {
      "cell_type": "code",
      "source": [
        "print('훈련용 데이터 개수 :',len(train_data)) # 훈련용 개수 출력"
      ],
      "metadata": {
        "colab": {
          "base_uri": "https://localhost:8080/"
        },
        "id": "rqlAeIrVwFsk",
        "outputId": "bb9ba9f7-d533-4706-c34c-e45e7c6f6d80"
      },
      "execution_count": 8,
      "outputs": [
        {
          "output_type": "stream",
          "name": "stdout",
          "text": [
            "훈련용 데이터 개수 : 27581\n"
          ]
        }
      ]
    },
    {
      "cell_type": "code",
      "source": [
        "print('테스트용 데이터 개수 :',len(test_data)) # 테스트용 개수 출력"
      ],
      "metadata": {
        "colab": {
          "base_uri": "https://localhost:8080/"
        },
        "id": "mUF8Uw8mwJce",
        "outputId": "bc33ef89-c1a0-4891-d810-95f390ae7252"
      },
      "execution_count": 9,
      "outputs": [
        {
          "output_type": "stream",
          "name": "stdout",
          "text": [
            "테스트용 데이터 개수 : 6896\n"
          ]
        }
      ]
    },
    {
      "cell_type": "code",
      "source": [
        "#test_data[:5]"
      ],
      "metadata": {
        "id": "tMkQCIN9wLLm"
      },
      "execution_count": 10,
      "outputs": []
    },
    {
      "cell_type": "code",
      "source": [
        "train_data['anonym'].nunique(), train_data['label'].nunique()\n",
        "# anonym 열, label 열의 중복을 제외한 값의 개수 "
      ],
      "metadata": {
        "colab": {
          "base_uri": "https://localhost:8080/"
        },
        "id": "X6w5yEAawRV-",
        "outputId": "914a333c-5368-42ad-8635-093e18b113b1"
      },
      "execution_count": 11,
      "outputs": [
        {
          "output_type": "execute_result",
          "data": {
            "text/plain": [
              "(26045, 2)"
            ]
          },
          "metadata": {},
          "execution_count": 11
        }
      ]
    },
    {
      "cell_type": "code",
      "source": [
        "train_data.drop_duplicates(subset=['anonym'], inplace=True)\n",
        "#앞선 27581개와와 차이가 난 만큼 중복제거"
      ],
      "metadata": {
        "id": "OBWTKQw-wTNX"
      },
      "execution_count": 12,
      "outputs": []
    },
    {
      "cell_type": "code",
      "source": [
        "print('총 샘플의 수 :',len(train_data))"
      ],
      "metadata": {
        "colab": {
          "base_uri": "https://localhost:8080/"
        },
        "id": "dWM1lWqFxGic",
        "outputId": "ebf76f20-6d05-4a01-c9ab-2a5df9e8f8dc"
      },
      "execution_count": 13,
      "outputs": [
        {
          "output_type": "stream",
          "name": "stdout",
          "text": [
            "총 샘플의 수 : 26045\n"
          ]
        }
      ]
    },
    {
      "cell_type": "code",
      "source": [
        "train_data['label'].value_counts().plot(kind = 'bar') #낙상사고 비율 확인"
      ],
      "metadata": {
        "colab": {
          "base_uri": "https://localhost:8080/",
          "height": 280
        },
        "id": "6X4d9dWIxQNq",
        "outputId": "b020cdce-a3c7-4d1d-e911-93dda1548f2a"
      },
      "execution_count": 14,
      "outputs": [
        {
          "output_type": "execute_result",
          "data": {
            "text/plain": [
              "<matplotlib.axes._subplots.AxesSubplot at 0x7f0900ae89a0>"
            ]
          },
          "metadata": {},
          "execution_count": 14
        },
        {
          "output_type": "display_data",
          "data": {
            "text/plain": [
              "<Figure size 432x288 with 1 Axes>"
            ],
            "image/png": "[encoded data removed]"
          },
          "metadata": {
            "needs_background": "light"
          }
        }
      ]
    },
    {
      "cell_type": "code",
      "source": [
        "print(train_data.groupby('label').size().reset_index(name = 'count'))"
      ],
      "metadata": {
        "colab": {
          "base_uri": "https://localhost:8080/"
        },
        "id": "desj3BGIxUOn",
        "outputId": "333abd1d-5e6e-48a3-c281-ac074443f7a8"
      },
      "execution_count": 15,
      "outputs": [
        {
          "output_type": "stream",
          "name": "stdout",
          "text": [
            "   label  count\n",
            "0      0  17965\n",
            "1      1   8080\n"
          ]
        }
      ]
    },
    {
      "cell_type": "code",
      "source": [
        "print(train_data.isnull().values.any()) #null 값이 있는 지 한번 더 확인인"
      ],
      "metadata": {
        "colab": {
          "base_uri": "https://localhost:8080/"
        },
        "id": "ySCOWxvsxWdk",
        "outputId": "db54b43d-2ea5-48fb-c989-68fc8018da0a"
      },
      "execution_count": 16,
      "outputs": [
        {
          "output_type": "stream",
          "name": "stdout",
          "text": [
            "False\n"
          ]
        }
      ]
    },
    {
      "cell_type": "code",
      "source": [
        "print(train_data.isnull().sum()) #2번째 확인인"
      ],
      "metadata": {
        "colab": {
          "base_uri": "https://localhost:8080/"
        },
        "id": "x-3y1UX7xX0L",
        "outputId": "4bc5bde5-6e4f-4be2-cf0f-b7a8abc98fb3"
      },
      "execution_count": 17,
      "outputs": [
        {
          "output_type": "stream",
          "name": "stdout",
          "text": [
            "index             0\n",
            "HOSPITAL          0\n",
            "label             0\n",
            "note              0\n",
            "anonym            0\n",
            "translation       0\n",
            "#ProcessedData    0\n",
            "#TokenizedData    0\n",
            "dtype: int64\n"
          ]
        }
      ]
    },
    {
      "cell_type": "code",
      "source": [
        "train_data.loc[train_data.anonym.isnull()] #3번째 확인인"
      ],
      "metadata": {
        "colab": {
          "base_uri": "https://localhost:8080/",
          "height": 49
        },
        "id": "cjns7LYvxZZu",
        "outputId": "cd2870e8-e340-47e8-ab65-8c962bd5c548"
      },
      "execution_count": 18,
      "outputs": [
        {
          "output_type": "execute_result",
          "data": {
            "text/plain": [
              "Empty DataFrame\n",
              "Columns: [index, HOSPITAL, label, note, anonym, translation, #ProcessedData, #TokenizedData]\n",
              "Index: []"
            ],
            "text/html": [
              "\n",
              "  <div id=\"df-ba01431c-6afe-41fd-bce7-4d16bcc6cabe\">\n",
              "    <div class=\"colab-df-container\">\n",
              "      <div>\n",
              "<style scoped>\n",
              "    .dataframe tbody tr th:only-of-type {\n",
              "        vertical-align: middle;\n",
              "    }\n",
              "\n",
              "    .dataframe tbody tr th {\n",
              "        vertical-align: top;\n",
              "    }\n",
              "\n",
              "    .dataframe thead th {\n",
              "        text-align: right;\n",
              "    }\n",
              "</style>\n",
              "<table border=\"1\" class=\"dataframe\">\n",
              "  <thead>\n",
              "    <tr style=\"text-align: right;\">\n",
              "      <th></th>\n",
              "      <th>index</th>\n",
              "      <th>HOSPITAL</th>\n",
              "      <th>label</th>\n",
              "      <th>note</th>\n",
              "      <th>anonym</th>\n",
              "      <th>translation</th>\n",
              "      <th>#ProcessedData</th>\n",
              "      <th>#TokenizedData</th>\n",
              "    </tr>\n",
              "  </thead>\n",
              "  <tbody>\n",
              "  </tbody>\n",
              "</table>\n",
              "</div>\n",
              "      <button class=\"colab-df-convert\" onclick=\"convertToInteractive('df-ba01431c-6afe-41fd-bce7-4d16bcc6cabe')\"\n",
              "              title=\"Convert this dataframe to an interactive table.\"\n",
              "              style=\"display:none;\">\n",
              "        \n",
              "  <svg xmlns=\"http://www.w3.org/2000/svg\" height=\"24px\"viewBox=\"0 0 24 24\"\n",
              "       width=\"24px\">\n",
              "    <path d=\"M0 0h24v24H0V0z\" fill=\"none\"/>\n",
              "    <path d=\"M18.56 5.44l.94 2.06.94-2.06 2.06-.94-2.06-.94-.94-2.06-.94 2.06-2.06.94zm-11 1L8.5 8.5l.94-2.06 2.06-.94-2.06-.94L8.5 2.5l-.94 2.06-2.06.94zm10 10l.94 2.06.94-2.06 2.06-.94-2.06-.94-.94-2.06-.94 2.06-2.06.94z\"/><path d=\"M17.41 7.96l-1.37-1.37c-.4-.4-.92-.59-1.43-.59-.52 0-1.04.2-1.43.59L10.3 9.45l-7.72 7.72c-.78.78-.78 2.05 0 2.83L4 21.41c.39.39.9.59 1.41.59.51 0 1.02-.2 1.41-.59l7.78-7.78 2.81-2.81c.8-.78.8-2.07 0-2.86zM5.41 20L4 18.59l7.72-7.72 1.47 1.35L5.41 20z\"/>\n",
              "  </svg>\n",
              "      </button>\n",
              "      \n",
              "  <style>\n",
              "    .colab-df-container {\n",
              "      display:flex;\n",
              "      flex-wrap:wrap;\n",
              "      gap: 12px;\n",
              "    }\n",
              "\n",
              "    .colab-df-convert {\n",
              "      background-color: #E8F0FE;\n",
              "      border: none;\n",
              "      border-radius: 50%;\n",
              "      cursor: pointer;\n",
              "      display: none;\n",
              "      fill: #1967D2;\n",
              "      height: 32px;\n",
              "      padding: 0 0 0 0;\n",
              "      width: 32px;\n",
              "    }\n",
              "\n",
              "    .colab-df-convert:hover {\n",
              "      background-color: #E2EBFA;\n",
              "      box-shadow: 0px 1px 2px rgba(60, 64, 67, 0.3), 0px 1px 3px 1px rgba(60, 64, 67, 0.15);\n",
              "      fill: #174EA6;\n",
              "    }\n",
              "\n",
              "    [theme=dark] .colab-df-convert {\n",
              "      background-color: #3B4455;\n",
              "      fill: #D2E3FC;\n",
              "    }\n",
              "\n",
              "    [theme=dark] .colab-df-convert:hover {\n",
              "      background-color: #434B5C;\n",
              "      box-shadow: 0px 1px 3px 1px rgba(0, 0, 0, 0.15);\n",
              "      filter: drop-shadow(0px 1px 2px rgba(0, 0, 0, 0.3));\n",
              "      fill: #FFFFFF;\n",
              "    }\n",
              "  </style>\n",
              "\n",
              "      <script>\n",
              "        const buttonEl =\n",
              "          document.querySelector('#df-ba01431c-6afe-41fd-bce7-4d16bcc6cabe button.colab-df-convert');\n",
              "        buttonEl.style.display =\n",
              "          google.colab.kernel.accessAllowed ? 'block' : 'none';\n",
              "\n",
              "        async function convertToInteractive(key) {\n",
              "          const element = document.querySelector('#df-ba01431c-6afe-41fd-bce7-4d16bcc6cabe');\n",
              "          const dataTable =\n",
              "            await google.colab.kernel.invokeFunction('convertToInteractive',\n",
              "                                                     [key], {});\n",
              "          if (!dataTable) return;\n",
              "\n",
              "          const docLinkHtml = 'Like what you see? Visit the ' +\n",
              "            '<a target=\"_blank\" href=https://colab.research.google.com/notebooks/data_table.ipynb>data table notebook</a>'\n",
              "            + ' to learn more about interactive tables.';\n",
              "          element.innerHTML = '';\n",
              "          dataTable['output_type'] = 'display_data';\n",
              "          await google.colab.output.renderOutput(dataTable, element);\n",
              "          const docLink = document.createElement('div');\n",
              "          docLink.innerHTML = docLinkHtml;\n",
              "          element.appendChild(docLink);\n",
              "        }\n",
              "      </script>\n",
              "    </div>\n",
              "  </div>\n",
              "  "
            ]
          },
          "metadata": {},
          "execution_count": 18
        }
      ]
    },
    {
      "cell_type": "code",
      "source": [
        "train_data = train_data.dropna(how = 'any') # Null 값이 존재하는 행 제거\n",
        "print(train_data.isnull().values.any()) # Null 값이 존재하는지 확인"
      ],
      "metadata": {
        "colab": {
          "base_uri": "https://localhost:8080/"
        },
        "id": "LfZTVuYixcyk",
        "outputId": "b80a68eb-328d-4c41-d272-420d5e26b093"
      },
      "execution_count": 19,
      "outputs": [
        {
          "output_type": "stream",
          "name": "stdout",
          "text": [
            "False\n"
          ]
        }
      ]
    },
    {
      "cell_type": "code",
      "source": [
        "# 한글과 공백을 제외하고 모두 제거\n",
        "#train_data['anonym'] = train_data['anonym'].str.replace(\"[^ㄱ-ㅎㅏ-ㅣ가-힣 ]\",\"\")\n",
        "#train_data[:5]"
      ],
      "metadata": {
        "id": "qQ5ZBQ6YxjrZ"
      },
      "execution_count": 20,
      "outputs": []
    },
    {
      "cell_type": "code",
      "source": [
        "train_data['anonym'] = train_data['anonym'].str.replace('^ +', \"\") # white space 데이터를 empty value로 변경\n",
        "train_data['anonym'].replace('', np.nan, inplace=True)\n",
        "print(train_data.isnull().sum())"
      ],
      "metadata": {
        "colab": {
          "base_uri": "https://localhost:8080/"
        },
        "id": "d3zhqkDYxq1U",
        "outputId": "9821d394-1182-4186-ac63-5da178ba7c48"
      },
      "execution_count": 21,
      "outputs": [
        {
          "output_type": "stream",
          "name": "stdout",
          "text": [
            "index             0\n",
            "HOSPITAL          0\n",
            "label             0\n",
            "note              0\n",
            "anonym            0\n",
            "translation       0\n",
            "#ProcessedData    0\n",
            "#TokenizedData    0\n",
            "dtype: int64\n"
          ]
        },
        {
          "output_type": "stream",
          "name": "stderr",
          "text": [
            "<ipython-input-21-310879df2702>:1: FutureWarning: The default value of regex will change from True to False in a future version.\n",
            "  train_data['anonym'] = train_data['anonym'].str.replace('^ +', \"\") # white space 데이터를 empty value로 변경\n"
          ]
        }
      ]
    },
    {
      "cell_type": "markdown",
      "source": [
        "3. 토큰화"
      ],
      "metadata": {
        "id": "gT2N8xNqOAF8"
      }
    },
    {
      "cell_type": "code",
      "source": [
        "stopwords = ['의','가','이','은','들','는','좀','잘','걍','과','도','를','으로','자','에','와','한','하다']"
      ],
      "metadata": {
        "id": "uXY9qnH4xv6x"
      },
      "execution_count": 22,
      "outputs": []
    },
    {
      "cell_type": "code",
      "source": [
        "okt = Okt()\n",
        "okt.morphs('와 이런 것도 영화라고 차라리 뮤직비디오를 만드는 게 나을 뻔', stem = True)"
      ],
      "metadata": {
        "colab": {
          "base_uri": "https://localhost:8080/"
        },
        "id": "g8AAABP2x4H6",
        "outputId": "d52503f5-0301-497d-91cf-a3309c8c7015"
      },
      "execution_count": 23,
      "outputs": [
        {
          "output_type": "execute_result",
          "data": {
            "text/plain": [
              "['오다', '이렇다', '것', '도', '영화', '라고', '차라리', '뮤직비디오', '를', '만들다', '게', '나다', '뻔']"
            ]
          },
          "metadata": {},
          "execution_count": 23
        }
      ]
    },
    {
      "cell_type": "code",
      "source": [
        "X_train = []\n",
        "for sentence in tqdm(train_data['anonym']):\n",
        "    tokenized_sentence = okt.morphs(sentence, stem=True) # 토큰화\n",
        "    stopwords_removed_sentence = [word for word in tokenized_sentence if not word in stopwords] # 불용어 제거\n",
        "    X_train.append(stopwords_removed_sentence)"
      ],
      "metadata": {
        "colab": {
          "base_uri": "https://localhost:8080/"
        },
        "id": "C4zwr2Hmx5DI",
        "outputId": "d8b734e5-7c2e-48ea-e83d-ad13828fb56e"
      },
      "execution_count": 24,
      "outputs": [
        {
          "output_type": "stream",
          "name": "stderr",
          "text": [
            "100%|██████████| 26045/26045 [02:29<00:00, 174.44it/s]\n"
          ]
        }
      ]
    },
    {
      "cell_type": "code",
      "source": [
        "#print(X_train[:3])\n"
      ],
      "metadata": {
        "id": "dHGmP4pByBKq"
      },
      "execution_count": 25,
      "outputs": []
    },
    {
      "cell_type": "code",
      "source": [
        "X_test = []\n",
        "for sentence in tqdm(test_data['anonym']):\n",
        "    tokenized_sentence = okt.morphs(sentence, stem=True) # 토큰화\n",
        "    stopwords_removed_sentence = [word for word in tokenized_sentence if not word in stopwords] # 불용어 제거\n",
        "    X_test.append(stopwords_removed_sentence)"
      ],
      "metadata": {
        "colab": {
          "base_uri": "https://localhost:8080/"
        },
        "id": "ZE7Y2NAIyPo0",
        "outputId": "f752ab18-99df-4d6f-dc1f-f7a7cb7a4dfa"
      },
      "execution_count": 26,
      "outputs": [
        {
          "output_type": "stream",
          "name": "stderr",
          "text": [
            "100%|██████████| 6896/6896 [00:38<00:00, 177.88it/s]\n"
          ]
        }
      ]
    },
    {
      "cell_type": "markdown",
      "source": [
        "4.인코딩"
      ],
      "metadata": {
        "id": "LpkRxfLTOKG9"
      }
    },
    {
      "cell_type": "code",
      "source": [
        "tokenizer = Tokenizer()\n",
        "tokenizer.fit_on_texts(X_train) #각 단어에 고유한 정수 부여여"
      ],
      "metadata": {
        "id": "_q2JqAMByRsJ"
      },
      "execution_count": 27,
      "outputs": []
    },
    {
      "cell_type": "code",
      "source": [
        "#print(tokenizer.word_index)\n",
        "#가장 많이 나오는 단어들부터 작은 숫자가 매겨짐짐"
      ],
      "metadata": {
        "id": "31Dd7bQIySnQ"
      },
      "execution_count": 28,
      "outputs": []
    },
    {
      "cell_type": "code",
      "source": [
        "tokenizer = Tokenizer() \n",
        "tokenizer.fit_on_texts(X_train)\n",
        "X_train = tokenizer.texts_to_sequences(X_train)\n",
        "X_test = tokenizer.texts_to_sequences(X_test) \n",
        "#케라스 토크나이저의 인자로 넘겨주고 텍스트 시퀀스를 정수 시퀀스로 변환합니다."
      ],
      "metadata": {
        "id": "0GAjWXEFyW2q"
      },
      "execution_count": 29,
      "outputs": []
    },
    {
      "cell_type": "code",
      "source": [
        "print(X_train[:3]) #각 샘플 내의 단어들은 각 단어에 대한 정수로 변환된 것을 확인"
      ],
      "metadata": {
        "colab": {
          "base_uri": "https://localhost:8080/"
        },
        "id": "986mtUZtyvJ7",
        "outputId": "1f223ba4-367f-4fe9-f7fb-fbe53c849cac"
      },
      "execution_count": 30,
      "outputs": [
        {
          "output_type": "stream",
          "name": "stdout",
          "text": [
            "[[34, 207, 19, 9, 124, 174, 812, 3132, 220, 80, 1, 9], [82, 488, 890, 606, 44, 3, 146, 195, 48, 3, 1176, 5, 2, 1, 211, 85, 137, 44, 3, 36, 195, 48, 3, 1779, 5, 170, 1, 48, 251, 412, 208, 87, 33, 169, 1, 44, 488, 412, 208, 490, 11, 308, 1, 82, 275, 1, 379, 182, 281, 44, 3, 36, 195, 48, 3, 113, 29, 44, 3, 36, 195, 48, 3, 113, 29, 85, 137, 3, 1325, 5, 170, 1, 82, 127, 442, 208, 10, 1, 143, 178, 201, 20, 4, 24, 26, 2, 1, 482, 1122, 3337, 120, 87, 315, 1, 60, 12, 3459, 400, 1438, 17, 661, 8, 125, 1, 2327, 2021, 11, 1, 17, 661, 8, 125, 1], [1307, 40, 464, 175, 34, 77, 83, 23, 12, 380, 10, 1, 6, 89, 99, 1, 150, 20, 173, 588, 6467, 2175, 14, 4, 47, 43, 21, 69, 56, 10010, 4, 90, 75, 305, 30, 2]]\n"
          ]
        }
      ]
    },
    {
      "cell_type": "code",
      "source": [
        "y_train = np.array(train_data['label'])\n",
        "y_test = np.array(test_data['label'])\n"
      ],
      "metadata": {
        "id": "l0_mAp34ywGh"
      },
      "execution_count": 31,
      "outputs": []
    },
    {
      "cell_type": "markdown",
      "source": [
        "5. 패딩작업"
      ],
      "metadata": {
        "id": "xIerQ0eVOMgg"
      }
    },
    {
      "cell_type": "code",
      "source": [
        "print('데이터의 최대 길이 :',max(len(review) for review in X_train))\n",
        "print('데이터터의 평균 길이 :',sum(map(len, X_train))/len(X_train))\n",
        "plt.hist([len(review) for review in X_train], bins=50)\n",
        "plt.xlabel('length of samples')\n",
        "plt.ylabel('number of samples')\n",
        "plt.show()\n",
        "#서로다른 길이를 맞추기 위해 패딩작업 진행 120이하로 구성.가장 많은 구성은 약 25정도."
      ],
      "metadata": {
        "colab": {
          "base_uri": "https://localhost:8080/",
          "height": 319
        },
        "id": "4MWtQebEyzvX",
        "outputId": "5188b658-9868-41c5-9d54-4716a0a7776c"
      },
      "execution_count": 32,
      "outputs": [
        {
          "output_type": "stream",
          "name": "stdout",
          "text": [
            "데이터의 최대 길이 : 472\n",
            "데이터터의 평균 길이 : 50.538644653484354\n"
          ]
        },
        {
          "output_type": "display_data",
          "data": {
            "text/plain": [
              "<Figure size 432x288 with 1 Axes>"
            ],
            "image/png": "[encoded data removed]"
          },
          "metadata": {
            "needs_background": "light"
          }
        }
      ]
    },
    {
      "cell_type": "code",
      "source": [
        "def below_threshold_len(max_len, nested_list):\n",
        "  count = 0\n",
        "  for sentence in nested_list:\n",
        "    if(len(sentence) <= max_len):\n",
        "        count = count + 1\n",
        "  print('전체 샘플 중 길이가 %s 이하인 샘플의 비율: %s'%(max_len, (count / len(nested_list))*100))"
      ],
      "metadata": {
        "id": "AAu1cJeJzFVs"
      },
      "execution_count": 33,
      "outputs": []
    },
    {
      "cell_type": "code",
      "source": [
        "max_len = 210\n",
        "below_threshold_len(max_len, X_train)"
      ],
      "metadata": {
        "colab": {
          "base_uri": "https://localhost:8080/"
        },
        "id": "YEbb2XiMzOw8",
        "outputId": "d8b04eed-c283-4eea-b803-6947edc188ea"
      },
      "execution_count": 34,
      "outputs": [
        {
          "output_type": "stream",
          "name": "stdout",
          "text": [
            "전체 샘플 중 길이가 210 이하인 샘플의 비율: 99.5315799577654\n"
          ]
        }
      ]
    },
    {
      "cell_type": "code",
      "source": [
        "X_train = pad_sequences(X_train, maxlen=max_len)\n",
        "X_test = pad_sequences(X_test, maxlen=max_len)"
      ],
      "metadata": {
        "id": "2-F5pRLSzRfl"
      },
      "execution_count": 35,
      "outputs": []
    },
    {
      "cell_type": "code",
      "source": [
        "vocab_size = len(tokenizer.word_index) + 1"
      ],
      "metadata": {
        "id": "zlNBxOzQ0Nrj"
      },
      "execution_count": 36,
      "outputs": []
    },
    {
      "cell_type": "markdown",
      "source": [
        "---\n",
        "**BILSTM을 베이스로 한 모델 구축**"
      ],
      "metadata": {
        "id": "YEowuuH4OOnN"
      }
    },
    {
      "cell_type": "code",
      "source": [
        "import re\n",
        "from tensorflow.keras.layers import Embedding, Dense, LSTM, Bidirectional\n",
        "from tensorflow.keras.models import Sequential\n",
        "from tensorflow.keras.models import load_model\n",
        "from tensorflow.keras.callbacks import EarlyStopping, ModelCheckpoint\n",
        "\n",
        "embedding_dim = 100\n",
        "hidden_units = 128\n",
        "\n",
        "model = Sequential()\n",
        "model.add(Embedding( vocab_size , embedding_dim))\n",
        "model.add(Bidirectional(LSTM(hidden_units))) # Bidirectional LSTM을 사용\n",
        "model.add(Dense(1, activation='sigmoid'))\n",
        "\n",
        "es = EarlyStopping(monitor='val_loss', mode='min', verbose=1, patience=4)\n",
        "mc = ModelCheckpoint('best_model.h5', monitor='val_acc', mode='max', verbose=1, save_best_only=True)\n",
        "\n",
        "# model.compile(optimizer='rmsprop', loss='binary_crossentropy', metrics=['acc'])\n",
        "model.compile(optimizer='rmsprop', loss='binary_crossentropy', \n",
        "              metrics=[tf.keras.metrics.Precision(name='precision'),\n",
        "                      tf.keras.metrics.Recall(name='recall'),\n",
        "                      tf.keras.metrics.FalsePositives(name='false_positives'),\n",
        "                      tf.keras.metrics.FalseNegatives(name='false_negatives'),\n",
        "                      'accuracy'],\n",
        "              )\n",
        "history = model.fit(X_train, y_train, epochs=15, callbacks=[es, mc], batch_size=256, validation_split=0.2)"
      ],
      "metadata": {
        "colab": {
          "base_uri": "https://localhost:8080/"
        },
        "id": "Bv1IHkQXzUmS",
        "outputId": "620254f1-c8a5-4c0a-975d-d178fd8fabde"
      },
      "execution_count": 37,
      "outputs": [
        {
          "output_type": "stream",
          "name": "stdout",
          "text": [
            "Epoch 1/15\n",
            "81/82 [============================>.] - ETA: 0s - loss: 0.2214 - precision: 0.9287 - recall: 0.7336 - false_positives: 362.0000 - false_negatives: 1713.0000 - accuracy: 0.8999"
          ]
        },
        {
          "output_type": "stream",
          "name": "stderr",
          "text": [
            "WARNING:tensorflow:Can save best model only with val_acc available, skipping.\n"
          ]
        },
        {
          "output_type": "stream",
          "name": "stdout",
          "text": [
            "\b\b\b\b\b\b\b\b\b\b\b\b\b\b\b\b\b\b\b\b\b\b\b\b\b\b\b\b\b\b\b\b\b\b\b\b\b\b\b\b\b\b\b\b\b\b\b\b\b\b\b\b\b\b\b\b\b\b\b\b\b\b\b\b\b\b\b\b\b\b\b\b\b\b\b\b\b\b\b\b\b\b\b\b\b\b\b\b\b\b\b\b\b\b\b\b\b\b\b\b\b\b\b\b\b\b\b\b\b\b\b\b\b\b\b\b\b\b\b\b\b\b\b\b\b\b\b\b\b\b\b\b\b\b\b\b\b\b\b\b\b\b\b\b\b\b\b\b\b\b\b\b\b\b\b\b\b\b\b\b\b\b\b\b\b\b\b\b\b\b\b\b\b\b\b\b\r82/82 [==============================] - 21s 64ms/step - loss: 0.2207 - precision: 0.9291 - recall: 0.7344 - false_positives: 362.0000 - false_negatives: 1716.0000 - accuracy: 0.9003 - val_loss: 0.0972 - val_precision: 0.9528 - val_recall: 0.9716 - val_false_positives: 78.0000 - val_false_negatives: 46.0000 - val_accuracy: 0.9762\n",
            "Epoch 2/15\n",
            "81/82 [============================>.] - ETA: 0s - loss: 0.0494 - precision: 0.9764 - recall: 0.9775 - false_positives: 152.0000 - false_negatives: 145.0000 - accuracy: 0.9857"
          ]
        },
        {
          "output_type": "stream",
          "name": "stderr",
          "text": [
            "WARNING:tensorflow:Can save best model only with val_acc available, skipping.\n"
          ]
        },
        {
          "output_type": "stream",
          "name": "stdout",
          "text": [
            "\b\b\b\b\b\b\b\b\b\b\b\b\b\b\b\b\b\b\b\b\b\b\b\b\b\b\b\b\b\b\b\b\b\b\b\b\b\b\b\b\b\b\b\b\b\b\b\b\b\b\b\b\b\b\b\b\b\b\b\b\b\b\b\b\b\b\b\b\b\b\b\b\b\b\b\b\b\b\b\b\b\b\b\b\b\b\b\b\b\b\b\b\b\b\b\b\b\b\b\b\b\b\b\b\b\b\b\b\b\b\b\b\b\b\b\b\b\b\b\b\b\b\b\b\b\b\b\b\b\b\b\b\b\b\b\b\b\b\b\b\b\b\b\b\b\b\b\b\b\b\b\b\b\b\b\b\b\b\b\b\b\b\b\b\b\b\b\b\b\b\b\b\b\b\b\r82/82 [==============================] - 4s 46ms/step - loss: 0.0495 - precision: 0.9762 - recall: 0.9774 - false_positives: 154.0000 - false_negatives: 146.0000 - accuracy: 0.9856 - val_loss: 0.0703 - val_precision: 0.9834 - val_recall: 0.9506 - val_false_positives: 26.0000 - val_false_negatives: 80.0000 - val_accuracy: 0.9797\n",
            "Epoch 3/15\n",
            "81/82 [============================>.] - ETA: 0s - loss: 0.0790 - precision: 0.9561 - recall: 0.9855 - false_positives: 291.0000 - false_negatives: 93.0000 - accuracy: 0.9815"
          ]
        },
        {
          "output_type": "stream",
          "name": "stderr",
          "text": [
            "WARNING:tensorflow:Can save best model only with val_acc available, skipping.\n"
          ]
        },
        {
          "output_type": "stream",
          "name": "stdout",
          "text": [
            "\b\b\b\b\b\b\b\b\b\b\b\b\b\b\b\b\b\b\b\b\b\b\b\b\b\b\b\b\b\b\b\b\b\b\b\b\b\b\b\b\b\b\b\b\b\b\b\b\b\b\b\b\b\b\b\b\b\b\b\b\b\b\b\b\b\b\b\b\b\b\b\b\b\b\b\b\b\b\b\b\b\b\b\b\b\b\b\b\b\b\b\b\b\b\b\b\b\b\b\b\b\b\b\b\b\b\b\b\b\b\b\b\b\b\b\b\b\b\b\b\b\b\b\b\b\b\b\b\b\b\b\b\b\b\b\b\b\b\b\b\b\b\b\b\b\b\b\b\b\b\b\b\b\b\b\b\b\b\b\b\b\b\b\b\b\b\b\b\b\b\b\b\b\b\r82/82 [==============================] - 4s 45ms/step - loss: 0.0791 - precision: 0.9563 - recall: 0.9853 - false_positives: 291.0000 - false_negatives: 95.0000 - accuracy: 0.9815 - val_loss: 0.0663 - val_precision: 0.9515 - val_recall: 0.9920 - val_false_positives: 82.0000 - val_false_negatives: 13.0000 - val_accuracy: 0.9818\n",
            "Epoch 4/15\n",
            "82/82 [==============================] - ETA: 0s - loss: 0.0321 - precision: 0.9841 - recall: 0.9890 - false_positives: 103.0000 - false_negatives: 71.0000 - accuracy: 0.9916"
          ]
        },
        {
          "output_type": "stream",
          "name": "stderr",
          "text": [
            "WARNING:tensorflow:Can save best model only with val_acc available, skipping.\n"
          ]
        },
        {
          "output_type": "stream",
          "name": "stdout",
          "text": [
            "\b\b\b\b\b\b\b\b\b\b\b\b\b\b\b\b\b\b\b\b\b\b\b\b\b\b\b\b\b\b\b\b\b\b\b\b\b\b\b\b\b\b\b\b\b\b\b\b\b\b\b\b\b\b\b\b\b\b\b\b\b\b\b\b\b\b\b\b\b\b\b\b\b\b\b\b\b\b\b\b\b\b\b\b\b\b\b\b\b\b\b\b\b\b\b\b\b\b\b\b\b\b\b\b\b\b\b\b\b\b\b\b\b\b\b\b\b\b\b\b\b\b\b\b\b\b\b\b\b\b\b\b\b\b\b\b\b\b\b\b\b\b\b\b\b\b\b\b\b\b\b\b\b\b\b\b\b\b\b\b\b\b\b\b\b\b\b\b\b\b\b\b\b\b\r82/82 [==============================] - 4s 46ms/step - loss: 0.0321 - precision: 0.9841 - recall: 0.9890 - false_positives: 103.0000 - false_negatives: 71.0000 - accuracy: 0.9916 - val_loss: 0.0671 - val_precision: 0.9821 - val_recall: 0.9457 - val_false_positives: 28.0000 - val_false_negatives: 88.0000 - val_accuracy: 0.9777\n",
            "Epoch 5/15\n",
            "81/82 [============================>.] - ETA: 0s - loss: 0.0260 - precision: 0.9867 - recall: 0.9908 - false_positives: 86.0000 - false_negatives: 59.0000 - accuracy: 0.9930"
          ]
        },
        {
          "output_type": "stream",
          "name": "stderr",
          "text": [
            "WARNING:tensorflow:Can save best model only with val_acc available, skipping.\n"
          ]
        },
        {
          "output_type": "stream",
          "name": "stdout",
          "text": [
            "\b\b\b\b\b\b\b\b\b\b\b\b\b\b\b\b\b\b\b\b\b\b\b\b\b\b\b\b\b\b\b\b\b\b\b\b\b\b\b\b\b\b\b\b\b\b\b\b\b\b\b\b\b\b\b\b\b\b\b\b\b\b\b\b\b\b\b\b\b\b\b\b\b\b\b\b\b\b\b\b\b\b\b\b\b\b\b\b\b\b\b\b\b\b\b\b\b\b\b\b\b\b\b\b\b\b\b\b\b\b\b\b\b\b\b\b\b\b\b\b\b\b\b\b\b\b\b\b\b\b\b\b\b\b\b\b\b\b\b\b\b\b\b\b\b\b\b\b\b\b\b\b\b\b\b\b\b\b\b\b\b\b\b\b\b\b\b\b\b\b\b\b\b\r82/82 [==============================] - 4s 45ms/step - loss: 0.0259 - precision: 0.9867 - recall: 0.9909 - false_positives: 86.0000 - false_negatives: 59.0000 - accuracy: 0.9930 - val_loss: 0.0421 - val_precision: 0.9772 - val_recall: 0.9796 - val_false_positives: 37.0000 - val_false_negatives: 33.0000 - val_accuracy: 0.9866\n",
            "Epoch 6/15\n",
            "82/82 [==============================] - ETA: 0s - loss: 0.0227 - precision: 0.9884 - recall: 0.9910 - false_positives: 75.0000 - false_negatives: 58.0000 - accuracy: 0.9936"
          ]
        },
        {
          "output_type": "stream",
          "name": "stderr",
          "text": [
            "WARNING:tensorflow:Can save best model only with val_acc available, skipping.\n"
          ]
        },
        {
          "output_type": "stream",
          "name": "stdout",
          "text": [
            "\b\b\b\b\b\b\b\b\b\b\b\b\b\b\b\b\b\b\b\b\b\b\b\b\b\b\b\b\b\b\b\b\b\b\b\b\b\b\b\b\b\b\b\b\b\b\b\b\b\b\b\b\b\b\b\b\b\b\b\b\b\b\b\b\b\b\b\b\b\b\b\b\b\b\b\b\b\b\b\b\b\b\b\b\b\b\b\b\b\b\b\b\b\b\b\b\b\b\b\b\b\b\b\b\b\b\b\b\b\b\b\b\b\b\b\b\b\b\b\b\b\b\b\b\b\b\b\b\b\b\b\b\b\b\b\b\b\b\b\b\b\b\b\b\b\b\b\b\b\b\b\b\b\b\b\b\b\b\b\b\b\b\b\b\b\b\b\b\b\b\b\b\b\r82/82 [==============================] - 4s 46ms/step - loss: 0.0227 - precision: 0.9884 - recall: 0.9910 - false_positives: 75.0000 - false_negatives: 58.0000 - accuracy: 0.9936 - val_loss: 0.0754 - val_precision: 0.9206 - val_recall: 0.9944 - val_false_positives: 139.0000 - val_false_negatives: 9.0000 - val_accuracy: 0.9716\n",
            "Epoch 7/15\n",
            "81/82 [============================>.] - ETA: 0s - loss: 0.0198 - precision: 0.9879 - recall: 0.9932 - false_positives: 78.0000 - false_negatives: 44.0000 - accuracy: 0.9941"
          ]
        },
        {
          "output_type": "stream",
          "name": "stderr",
          "text": [
            "WARNING:tensorflow:Can save best model only with val_acc available, skipping.\n"
          ]
        },
        {
          "output_type": "stream",
          "name": "stdout",
          "text": [
            "\b\b\b\b\b\b\b\b\b\b\b\b\b\b\b\b\b\b\b\b\b\b\b\b\b\b\b\b\b\b\b\b\b\b\b\b\b\b\b\b\b\b\b\b\b\b\b\b\b\b\b\b\b\b\b\b\b\b\b\b\b\b\b\b\b\b\b\b\b\b\b\b\b\b\b\b\b\b\b\b\b\b\b\b\b\b\b\b\b\b\b\b\b\b\b\b\b\b\b\b\b\b\b\b\b\b\b\b\b\b\b\b\b\b\b\b\b\b\b\b\b\b\b\b\b\b\b\b\b\b\b\b\b\b\b\b\b\b\b\b\b\b\b\b\b\b\b\b\b\b\b\b\b\b\b\b\b\b\b\b\b\b\b\b\b\b\b\b\b\b\b\b\b\r82/82 [==============================] - 4s 46ms/step - loss: 0.0197 - precision: 0.9880 - recall: 0.9932 - false_positives: 78.0000 - false_negatives: 44.0000 - accuracy: 0.9941 - val_loss: 0.0490 - val_precision: 0.9843 - val_recall: 0.9691 - val_false_positives: 25.0000 - val_false_negatives: 50.0000 - val_accuracy: 0.9856\n",
            "Epoch 8/15\n",
            "81/82 [============================>.] - ETA: 0s - loss: 0.0181 - precision: 0.9907 - recall: 0.9922 - false_positives: 60.0000 - false_negatives: 50.0000 - accuracy: 0.9947"
          ]
        },
        {
          "output_type": "stream",
          "name": "stderr",
          "text": [
            "WARNING:tensorflow:Can save best model only with val_acc available, skipping.\n"
          ]
        },
        {
          "output_type": "stream",
          "name": "stdout",
          "text": [
            "\b\b\b\b\b\b\b\b\b\b\b\b\b\b\b\b\b\b\b\b\b\b\b\b\b\b\b\b\b\b\b\b\b\b\b\b\b\b\b\b\b\b\b\b\b\b\b\b\b\b\b\b\b\b\b\b\b\b\b\b\b\b\b\b\b\b\b\b\b\b\b\b\b\b\b\b\b\b\b\b\b\b\b\b\b\b\b\b\b\b\b\b\b\b\b\b\b\b\b\b\b\b\b\b\b\b\b\b\b\b\b\b\b\b\b\b\b\b\b\b\b\b\b\b\b\b\b\b\b\b\b\b\b\b\b\b\b\b\b\b\b\b\b\b\b\b\b\b\b\b\b\b\b\b\b\b\b\b\b\b\b\b\b\b\b\b\b\b\b\b\b\b\b\r82/82 [==============================] - 4s 45ms/step - loss: 0.0181 - precision: 0.9907 - recall: 0.9923 - false_positives: 60.0000 - false_negatives: 50.0000 - accuracy: 0.9947 - val_loss: 0.0558 - val_precision: 0.9819 - val_recall: 0.9728 - val_false_positives: 29.0000 - val_false_negatives: 44.0000 - val_accuracy: 0.9860\n",
            "Epoch 9/15\n",
            "81/82 [============================>.] - ETA: 0s - loss: 0.0153 - precision: 0.9925 - recall: 0.9944 - false_positives: 48.0000 - false_negatives: 36.0000 - accuracy: 0.9959"
          ]
        },
        {
          "output_type": "stream",
          "name": "stderr",
          "text": [
            "WARNING:tensorflow:Can save best model only with val_acc available, skipping.\n"
          ]
        },
        {
          "output_type": "stream",
          "name": "stdout",
          "text": [
            "\b\b\b\b\b\b\b\b\b\b\b\b\b\b\b\b\b\b\b\b\b\b\b\b\b\b\b\b\b\b\b\b\b\b\b\b\b\b\b\b\b\b\b\b\b\b\b\b\b\b\b\b\b\b\b\b\b\b\b\b\b\b\b\b\b\b\b\b\b\b\b\b\b\b\b\b\b\b\b\b\b\b\b\b\b\b\b\b\b\b\b\b\b\b\b\b\b\b\b\b\b\b\b\b\b\b\b\b\b\b\b\b\b\b\b\b\b\b\b\b\b\b\b\b\b\b\b\b\b\b\b\b\b\b\b\b\b\b\b\b\b\b\b\b\b\b\b\b\b\b\b\b\b\b\b\b\b\b\b\b\b\b\b\b\b\b\b\b\b\b\b\b\b\r82/82 [==============================] - 4s 46ms/step - loss: 0.0152 - precision: 0.9926 - recall: 0.9944 - false_positives: 48.0000 - false_negatives: 36.0000 - accuracy: 0.9960 - val_loss: 0.0528 - val_precision: 0.9778 - val_recall: 0.9809 - val_false_positives: 36.0000 - val_false_negatives: 31.0000 - val_accuracy: 0.9871\n",
            "Epoch 9: early stopping\n"
          ]
        }
      ]
    },
    {
      "cell_type": "code",
      "source": [
        "model.save(\"my_model.h5\")\n",
        "#케라스형식 모델 저장 (bestmodel.h5에 자동 저장이 안되기 때문에에)"
      ],
      "metadata": {
        "id": "uEhsoASDK6-3"
      },
      "execution_count": 38,
      "outputs": []
    },
    {
      "cell_type": "code",
      "source": [
        "loaded_model = load_model('my_model.h5')\n",
        "print(\"\\n 테스트 정확도: %.4f\" % (loaded_model.evaluate(X_test, y_test)[1]))"
      ],
      "metadata": {
        "colab": {
          "base_uri": "https://localhost:8080/"
        },
        "id": "fmHgIIuT0Ktl",
        "outputId": "e232880d-8bee-459d-9b03-46a2795e68ad"
      },
      "execution_count": 39,
      "outputs": [
        {
          "output_type": "stream",
          "name": "stdout",
          "text": [
            "216/216 [==============================] - 4s 14ms/step - loss: 0.0496 - precision: 0.9764 - recall: 0.9837 - false_positives: 48.0000 - false_negatives: 33.0000 - accuracy: 0.9883\n",
            "\n",
            " 테스트 정확도: 0.9764\n"
          ]
        }
      ]
    },
    {
      "cell_type": "code",
      "source": [
        "def fall_predict(new_sentence):\n",
        "  new_sentence = re.sub(r'[^ㄱ-ㅎㅏ-ㅣ가-힣 ]','', new_sentence)\n",
        "  new_sentence = okt.morphs(new_sentence, stem=True) # 토큰화\n",
        "  new_sentence = [word for word in new_sentence if not word in stopwords] # 불용어 제거\n",
        "  encoded = tokenizer.texts_to_sequences([new_sentence]) # 정수 인코딩\n",
        "  pad_new = pad_sequences(encoded, maxlen = max_len) # 패딩\n",
        "  score = float(loaded_model.predict(pad_new)) # 예측\n",
        "  if(score > 0.5):\n",
        "    print(\"{:.2f}% 확률로 낙상사고입니다.\\n\".format(score * 100))\n",
        "  else:\n",
        "    print(\"{:.2f}% 확률로 낙상사고가 아닙니다.\\n\".format((1 - score) * 100))\n",
        "#(기본 구성이자 흐름)"
      ],
      "metadata": {
        "id": "b2BO2z_X0KzS"
      },
      "execution_count": 40,
      "outputs": []
    },
    {
      "cell_type": "code",
      "source": [
        "fall_predict('와 이거 실화냐? 진짜 가슴이 웅장해진다 내가 생각했던 그 나투로와 사스케가 맞냐? 정말 세계관 최강자들의 싸움이다')"
      ],
      "metadata": {
        "colab": {
          "base_uri": "https://localhost:8080/"
        },
        "id": "JqX9prqH_8Yp",
        "outputId": "b2890780-018a-4e87-83a0-62c2d9f0d232"
      },
      "execution_count": 41,
      "outputs": [
        {
          "output_type": "stream",
          "name": "stdout",
          "text": [
            "1/1 [==============================] - 2s 2s/step\n",
            "99.99% 확률로 낙상사고가 아닙니다.\n",
            "\n"
          ]
        }
      ]
    },
    {
      "cell_type": "code",
      "source": [
        "fall_predict('병실에 보호자(아들) 있었으나 수면 중이었으며 올려져 있는 side rail사이의 54cm(발치 쪽)사이로 내려오다가  왼쪽 옆구리를 부딪힌 후 환자  움직이는 소리에 잠에서 깨어난 보호자와 함께 화장실 다녀 왔다함. 낙상 시 side rail에  Lt. flank 부딪혀 통증 있어 X-ray 촬영 후 협진 본 후 진통제 처방 남.')\n"
      ],
      "metadata": {
        "colab": {
          "base_uri": "https://localhost:8080/"
        },
        "id": "rW0zluAbzWQl",
        "outputId": "c5bb2f23-e7f4-480e-e319-5991341806a6"
      },
      "execution_count": 42,
      "outputs": [
        {
          "output_type": "stream",
          "name": "stdout",
          "text": [
            "1/1 [==============================] - 0s 25ms/step\n",
            "99.93% 확률로 낙상사고입니다.\n",
            "\n"
          ]
        }
      ]
    },
    {
      "cell_type": "markdown",
      "source": [
        "F1_Score는 0.9800"
      ],
      "metadata": {
        "id": "r7ih9BgGzlq4"
      }
    }
  ]
}