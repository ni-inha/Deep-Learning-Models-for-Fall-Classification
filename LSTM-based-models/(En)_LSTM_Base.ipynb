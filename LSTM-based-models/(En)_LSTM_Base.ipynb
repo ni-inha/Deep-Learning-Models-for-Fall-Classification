{
  "nbformat": 4,
  "nbformat_minor": 0,
  "metadata": {
    "colab": {
      "provenance": []
    },
    "kernelspec": {
      "name": "python3",
      "display_name": "Python 3"
    },
    "language_info": {
      "name": "python"
    },
    "accelerator": "GPU",
    "gpuClass": "standard"
  },
  "cells": [
    {
      "cell_type": "markdown",
      "source": [
        "#ENG LSTM BASED\n",
        "## 데이터 이해 및 전처리 과정\n",
        ">1. 데이터 로드 및 필요한 라이브러리 호출\n",
        ">2. 데이터 정제하기\n",
        ">3. 토큰화\n",
        ">4. 인코딩\n",
        ">5. 패딩 작업\n",
        "## LSTM을 베이스로 한 모델 구축\n",
        ">1. 베스트모델 학습\n",
        ">2. 모델에 예시 적용 및 예측측"
      ],
      "metadata": {
        "id": "3H0Dz7NT-sqI"
      }
    },
    {
      "cell_type": "markdown",
      "source": [
        "**데이터 이해 및 전처리 과정**"
      ],
      "metadata": {
        "id": "1lrWL70vSZG-"
      }
    },
    {
      "cell_type": "code",
      "execution_count": 1,
      "metadata": {
        "colab": {
          "base_uri": "https://localhost:8080/"
        },
        "id": "X7q4Hm2izY28",
        "outputId": "7ca4d693-9148-4997-e63d-ab9e4299a2de"
      },
      "outputs": [
        {
          "output_type": "stream",
          "name": "stdout",
          "text": [
            "Looking in indexes: https://pypi.org/simple, https://us-python.pkg.dev/colab-wheels/public/simple/\n",
            "Collecting konlpy\n",
            "  Downloading konlpy-0.6.0-py2.py3-none-any.whl (19.4 MB)\n",
            "\u001b[2K     \u001b[90m━━━━━━━━━━━━━━━━━━━━━━━━━━━━━━━━━━━━━━━━\u001b[0m \u001b[32m19.4/19.4 MB\u001b[0m \u001b[31m73.1 MB/s\u001b[0m eta \u001b[36m0:00:00\u001b[0m\n",
            "\u001b[?25hCollecting JPype1>=0.7.0\n",
            "  Downloading JPype1-1.4.1-cp38-cp38-manylinux_2_12_x86_64.manylinux2010_x86_64.whl (465 kB)\n",
            "\u001b[2K     \u001b[90m━━━━━━━━━━━━━━━━━━━━━━━━━━━━━━━━━━━━━━\u001b[0m \u001b[32m465.6/465.6 KB\u001b[0m \u001b[31m50.9 MB/s\u001b[0m eta \u001b[36m0:00:00\u001b[0m\n",
            "\u001b[?25hRequirement already satisfied: numpy>=1.6 in /usr/local/lib/python3.8/dist-packages (from konlpy) (1.21.6)\n",
            "Requirement already satisfied: lxml>=4.1.0 in /usr/local/lib/python3.8/dist-packages (from konlpy) (4.9.2)\n",
            "Requirement already satisfied: packaging in /usr/local/lib/python3.8/dist-packages (from JPype1>=0.7.0->konlpy) (21.3)\n",
            "Requirement already satisfied: pyparsing!=3.0.5,>=2.0.2 in /usr/local/lib/python3.8/dist-packages (from packaging->JPype1>=0.7.0->konlpy) (3.0.9)\n",
            "Installing collected packages: JPype1, konlpy\n",
            "Successfully installed JPype1-1.4.1 konlpy-0.6.0\n"
          ]
        }
      ],
      "source": [
        "!pip install konlpy"
      ]
    },
    {
      "cell_type": "code",
      "source": [
        "# DATA_TYPE = \"anonym\"\n",
        "# LANGUAGE = \"ko\""
      ],
      "metadata": {
        "id": "D7ALnBLR0-SR"
      },
      "execution_count": 2,
      "outputs": []
    },
    {
      "cell_type": "code",
      "source": [
        "DATA_TYPE = \"translation\"\n",
        "LANGUAGE = \"en\""
      ],
      "metadata": {
        "id": "MKPcrgPF1AtT"
      },
      "execution_count": 3,
      "outputs": []
    },
    {
      "cell_type": "markdown",
      "source": [
        "1. 데이터 로드 및 필요한 라이브러리 호출"
      ],
      "metadata": {
        "id": "uw8zu2H_SfQh"
      }
    },
    {
      "cell_type": "code",
      "source": [
        "import pandas as pd\n",
        "import numpy as np\n",
        "import matplotlib.pyplot as plt\n",
        "import re\n",
        "import os\n",
        "import tensorflow as tf\n",
        "import matplotlib.pyplot as plt\n",
        "from konlpy.tag import Okt\n",
        "from tqdm import tqdm\n",
        "from tensorflow.keras.preprocessing.text import Tokenizer\n",
        "from tensorflow.keras.preprocessing.sequence import pad_sequences\n",
        "from sklearn.model_selection import train_test_split"
      ],
      "metadata": {
        "id": "ryA_QBOs9lDI"
      },
      "execution_count": 4,
      "outputs": []
    },
    {
      "cell_type": "code",
      "source": [
        "total_data = pd.read_csv(\"/content/dataset_10116_34477.csv\")  #데이터 파일 불러오기"
      ],
      "metadata": {
        "id": "Lz7-Hche-PMv"
      },
      "execution_count": 5,
      "outputs": []
    },
    {
      "cell_type": "code",
      "source": [
        "#total_data[:5] #상위 데이터 확인"
      ],
      "metadata": {
        "id": "7wPBanl44rWg"
      },
      "execution_count": 6,
      "outputs": []
    },
    {
      "cell_type": "markdown",
      "source": [
        "2. 데이터정제"
      ],
      "metadata": {
        "id": "d5mcbm61Skal"
      }
    },
    {
      "cell_type": "code",
      "source": [
        "RANDOM_STATE = 42"
      ],
      "metadata": {
        "id": "EL30PMgx-17R"
      },
      "execution_count": 7,
      "outputs": []
    },
    {
      "cell_type": "code",
      "source": [
        "X = total_data\n",
        "y = total_data['label']\n",
        "\n",
        "# Split total_data\n",
        "# Train : Test = 8 : 2\n",
        "train_data, test_data, y_train, y_test=train_test_split(X, y, \n",
        "                                                        test_size=0.2, \n",
        "                                                        shuffle=True,\n",
        "                                                        stratify=y,\n",
        "                                                        random_state=RANDOM_STATE)\n",
        "\n",
        "train_data = train_data.reset_index()\n",
        "# valid_data = valid_data.reset_index()\n",
        "test_data  = test_data.reset_index()\n",
        "\n",
        "y_train = y_train.reset_index()['label']\n",
        "# y_valid = y_valid.reset_index()['label']\n",
        "y_test  = y_test.reset_index()['label']\n",
        "\n",
        "print(f'--- Rate of Falls in Train Datasets (N = {len(y_train)}) ---')\n",
        "print(f'Non-Fall Data (label : 0) = {y_train.value_counts()[0]} ({round(y_train.value_counts()[0]/len(y_train) * 100,3)})%')\n",
        "print(f'    Fall Data (label : 1) = {y_train.value_counts()[1]} ({round(y_train.value_counts()[1]/len(y_train) * 100,3)})%')\n",
        "print()\n",
        "# print(f'--- Rate of Falls in Validation Datasets (N = {len(y_valid)}) ---')\n",
        "# print(f'Non-Fall Data (label : 0) = {y_valid.value_counts()[0]} ({round(y_valid.value_counts()[0]/len(y_valid) * 100,3)})%')\n",
        "# print(f'    Fall Data (label : 1) = {y_valid.value_counts()[1]} ({round(y_valid.value_counts()[1]/len(y_valid) * 100,3)})%')\n",
        "print()\n",
        "print(f'--- Rate of Falls in Test Datasets (N = {len(y_test)}) ---')\n",
        "print(f'Non-Fall Data (label : 0) = {y_test.value_counts()[0]} ({round(y_test.value_counts()[0]/len(y_test) * 100,3)})%')\n",
        "print(f'    Fall Data (label : 1) = {y_test.value_counts()[1]} ({round(y_test.value_counts()[1]/len(y_test) * 100,3)})%')"
      ],
      "metadata": {
        "colab": {
          "base_uri": "https://localhost:8080/"
        },
        "id": "KWV_EH98MWWv",
        "outputId": "52c1f33a-8cfa-42f7-8242-806f6f2bf09f"
      },
      "execution_count": 8,
      "outputs": [
        {
          "output_type": "stream",
          "name": "stdout",
          "text": [
            "--- Rate of Falls in Train Datasets (N = 27581) ---\n",
            "Non-Fall Data (label : 0) = 19488 (70.657)%\n",
            "    Fall Data (label : 1) = 8093 (29.343)%\n",
            "\n",
            "\n",
            "--- Rate of Falls in Test Datasets (N = 6896) ---\n",
            "Non-Fall Data (label : 0) = 4873 (70.664)%\n",
            "    Fall Data (label : 1) = 2023 (29.336)%\n"
          ]
        }
      ]
    },
    {
      "cell_type": "code",
      "source": [
        "print('훈련용 데이터 개수 :', len(train_data)) # 훈련용 데이터 개수 출력"
      ],
      "metadata": {
        "colab": {
          "base_uri": "https://localhost:8080/"
        },
        "id": "q4X8nXVeMYbo",
        "outputId": "47423520-e410-4ea4-93c4-a8f217658e16"
      },
      "execution_count": 9,
      "outputs": [
        {
          "output_type": "stream",
          "name": "stdout",
          "text": [
            "훈련용 데이터 개수 : 27581\n"
          ]
        }
      ]
    },
    {
      "cell_type": "code",
      "source": [
        "print('테스트용 데이터 개수 :',len(test_data)) # 테스트용 데이터 개수 출력"
      ],
      "metadata": {
        "colab": {
          "base_uri": "https://localhost:8080/"
        },
        "id": "B7BuxbHCMdqd",
        "outputId": "2c38fb09-1813-4bc3-9eac-9ffdb676d899"
      },
      "execution_count": 10,
      "outputs": [
        {
          "output_type": "stream",
          "name": "stdout",
          "text": [
            "테스트용 데이터 개수 : 6896\n"
          ]
        }
      ]
    },
    {
      "cell_type": "code",
      "source": [
        "#train_data[:5]"
      ],
      "metadata": {
        "id": "gfLQ3K6KhbhM"
      },
      "execution_count": 11,
      "outputs": []
    },
    {
      "cell_type": "code",
      "source": [
        "train_data['anonym'].nunique(), train_data['label'].nunique()\n",
        "# anonym 열, label 열의 중복을 제외한 값의 개수 "
      ],
      "metadata": {
        "colab": {
          "base_uri": "https://localhost:8080/"
        },
        "id": "slAHCVMM5AXP",
        "outputId": "f18b9918-fc36-4297-9a52-950b81512441"
      },
      "execution_count": 12,
      "outputs": [
        {
          "output_type": "execute_result",
          "data": {
            "text/plain": [
              "(26045, 2)"
            ]
          },
          "metadata": {},
          "execution_count": 12
        }
      ]
    },
    {
      "cell_type": "code",
      "source": [
        "train_data.drop_duplicates(subset=['anonym'], inplace=True)\n",
        "#앞선 27581개와와 차이가 난 만큼 중복제거"
      ],
      "metadata": {
        "id": "qpsH2_Gt5Bqa"
      },
      "execution_count": 13,
      "outputs": []
    },
    {
      "cell_type": "code",
      "source": [
        "print('총 샘플의 수 :',len(train_data))"
      ],
      "metadata": {
        "colab": {
          "base_uri": "https://localhost:8080/"
        },
        "id": "91DrUtrK5Cnp",
        "outputId": "9a2042c5-1f98-4c82-dde5-4bec0c87c440"
      },
      "execution_count": 14,
      "outputs": [
        {
          "output_type": "stream",
          "name": "stdout",
          "text": [
            "총 샘플의 수 : 26045\n"
          ]
        }
      ]
    },
    {
      "cell_type": "code",
      "source": [
        "train_data['label'].value_counts().plot(kind = 'bar') #낙상사고 비율 확인"
      ],
      "metadata": {
        "colab": {
          "base_uri": "https://localhost:8080/",
          "height": 280
        },
        "id": "E0zwb6IU5Dyh",
        "outputId": "42547fb5-cfdf-4e6e-98ad-b7579528cdba"
      },
      "execution_count": 15,
      "outputs": [
        {
          "output_type": "execute_result",
          "data": {
            "text/plain": [
              "<matplotlib.axes._subplots.AxesSubplot at 0x7f8543500520>"
            ]
          },
          "metadata": {},
          "execution_count": 15
        },
        {
          "output_type": "display_data",
          "data": {
            "text/plain": [
              "<Figure size 432x288 with 1 Axes>"
            ],
            "image/png": "[encoded data removed]"
          },
          "metadata": {
            "needs_background": "light"
          }
        }
      ]
    },
    {
      "cell_type": "code",
      "source": [
        "print(train_data.groupby('label').size().reset_index(name = 'count'))"
      ],
      "metadata": {
        "colab": {
          "base_uri": "https://localhost:8080/"
        },
        "id": "jSgYJ-al5FJL",
        "outputId": "f6a00ee7-918f-41b4-bbea-136b2c0588bc"
      },
      "execution_count": 16,
      "outputs": [
        {
          "output_type": "stream",
          "name": "stdout",
          "text": [
            "   label  count\n",
            "0      0  17965\n",
            "1      1   8080\n"
          ]
        }
      ]
    },
    {
      "cell_type": "code",
      "source": [
        "print(train_data.isnull().values.any()) #null 값이 있는 지 한번 더 확인인"
      ],
      "metadata": {
        "colab": {
          "base_uri": "https://localhost:8080/"
        },
        "id": "8JVNQkFuMe2u",
        "outputId": "a069ff3a-2cab-4188-c349-37301db3ac59"
      },
      "execution_count": 17,
      "outputs": [
        {
          "output_type": "stream",
          "name": "stdout",
          "text": [
            "False\n"
          ]
        }
      ]
    },
    {
      "cell_type": "code",
      "source": [
        "print(train_data.isnull().sum()) #2번째 확인인"
      ],
      "metadata": {
        "colab": {
          "base_uri": "https://localhost:8080/"
        },
        "id": "FvJhd3BFMf3Q",
        "outputId": "d8dd0967-cb5c-4fef-c402-a679b442a3dd"
      },
      "execution_count": 18,
      "outputs": [
        {
          "output_type": "stream",
          "name": "stdout",
          "text": [
            "index             0\n",
            "HOSPITAL          0\n",
            "label             0\n",
            "note              0\n",
            "anonym            0\n",
            "translation       0\n",
            "#ProcessedData    0\n",
            "#TokenizedData    0\n",
            "dtype: int64\n"
          ]
        }
      ]
    },
    {
      "cell_type": "code",
      "source": [
        "#train_data.loc[train_data.anonym.isnull()] #3번째 확인인"
      ],
      "metadata": {
        "id": "nOfTh6tdMg7P"
      },
      "execution_count": 19,
      "outputs": []
    },
    {
      "cell_type": "code",
      "source": [
        "train_data = train_data.dropna(how = 'any') # Null 값이 존재하는 행 제거\n",
        "print(train_data.isnull().values.any()) # Null 값이 존재하는지 확인"
      ],
      "metadata": {
        "colab": {
          "base_uri": "https://localhost:8080/"
        },
        "id": "OjkV-c9MMh3P",
        "outputId": "6f409eda-3733-462d-b279-bf439a3407e0"
      },
      "execution_count": 20,
      "outputs": [
        {
          "output_type": "stream",
          "name": "stdout",
          "text": [
            "False\n"
          ]
        }
      ]
    },
    {
      "cell_type": "code",
      "source": [
        "#영어와 공백을 제외하고 모두 제거\n",
        "#train_data['anonym'] = train_data['anonym'].str.replace(\"[^ㄱ-ㅎㅏ-ㅣ가-힣 ]\",\"\")\n",
        "#train_data[:5]"
      ],
      "metadata": {
        "id": "yIKF9Xsw5Oq8"
      },
      "execution_count": 21,
      "outputs": []
    },
    {
      "cell_type": "code",
      "source": [
        "train_data['anonym'] = train_data['anonym'].str.replace('^ +', \"\") # white space 데이터를 empty value로 변경\n",
        "train_data['anonym'].replace('', np.nan, inplace=True)\n",
        "print(train_data.isnull().sum())"
      ],
      "metadata": {
        "colab": {
          "base_uri": "https://localhost:8080/"
        },
        "id": "c15pR_L45TrZ",
        "outputId": "6c1e8343-341e-4a45-c275-2bf3c608c720"
      },
      "execution_count": 22,
      "outputs": [
        {
          "output_type": "stream",
          "name": "stdout",
          "text": [
            "index             0\n",
            "HOSPITAL          0\n",
            "label             0\n",
            "note              0\n",
            "anonym            0\n",
            "translation       0\n",
            "#ProcessedData    0\n",
            "#TokenizedData    0\n",
            "dtype: int64\n"
          ]
        },
        {
          "output_type": "stream",
          "name": "stderr",
          "text": [
            "<ipython-input-22-310879df2702>:1: FutureWarning: The default value of regex will change from True to False in a future version.\n",
            "  train_data['anonym'] = train_data['anonym'].str.replace('^ +', \"\") # white space 데이터를 empty value로 변경\n"
          ]
        }
      ]
    },
    {
      "cell_type": "markdown",
      "source": [
        "3. 토큰화"
      ],
      "metadata": {
        "id": "tlSyRzXlSpUT"
      }
    },
    {
      "cell_type": "code",
      "source": [
        "stopwords = [] #영어에는 불용어가 딱히 없다."
      ],
      "metadata": {
        "id": "i0j1t7Wm7_0A"
      },
      "execution_count": 23,
      "outputs": []
    },
    {
      "cell_type": "code",
      "source": [
        "okt = Okt()\n",
        "okt.morphs('와 이런 것도 영화라고 차라리 뮤직비디오를 만드는 게 나을 뻔', stem = True)"
      ],
      "metadata": {
        "colab": {
          "base_uri": "https://localhost:8080/"
        },
        "id": "HTRb5s5w8LEw",
        "outputId": "337d3988-909d-496b-91a7-fdf10068861f"
      },
      "execution_count": 24,
      "outputs": [
        {
          "output_type": "execute_result",
          "data": {
            "text/plain": [
              "['오다', '이렇다', '것', '도', '영화', '라고', '차라리', '뮤직비디오', '를', '만들다', '게', '나다', '뻔']"
            ]
          },
          "metadata": {},
          "execution_count": 24
        }
      ]
    },
    {
      "cell_type": "code",
      "source": [
        "X_train = []\n",
        "for sentence in tqdm(train_data['anonym']):\n",
        "    tokenized_sentence = okt.morphs(sentence, stem=True) # 토큰화\n",
        "    stopwords_removed_sentence = [word for word in tokenized_sentence if not word in stopwords] # 불용어 제거\n",
        "    X_train.append(stopwords_removed_sentence)"
      ],
      "metadata": {
        "colab": {
          "base_uri": "https://localhost:8080/"
        },
        "id": "YsBGkYD15XUo",
        "outputId": "a358b970-78f7-4629-8a3a-962d26c920d2"
      },
      "execution_count": 25,
      "outputs": [
        {
          "output_type": "stream",
          "name": "stderr",
          "text": [
            "100%|██████████| 26045/26045 [02:37<00:00, 165.81it/s]\n"
          ]
        }
      ]
    },
    {
      "cell_type": "code",
      "source": [
        "print(X_train[:3])\n"
      ],
      "metadata": {
        "colab": {
          "base_uri": "https://localhost:8080/"
        },
        "id": "IOasHO915YaR",
        "outputId": "c4e296e6-d46c-44bd-f312-3f9a8fb13343"
      },
      "execution_count": 26,
      "outputs": [
        {
          "output_type": "stream",
          "name": "stdout",
          "text": [
            "[['화장실', 'Ambulation', '하다', '중', ',', '다리', '힘', '이', '풀리다', '스르륵', '주저', '앉다', '.', ','], ['Both', 'hand', 'grasp', 'power', 'Rt', '(', 'intact', ')/', 'Lt', '(', 'poor', ')', '함', '.', '상지', 'motor', 'grade', 'Rt', '(', '5', ')/', 'Lt', '(', '3~4', ')', 'checked', '.', 'Lt', 'arm', 'tingling', 'sense', '지속', '적', '이며', '.', 'Rt', 'hand', 'tingling', 'sense', '도', 'mild', '하다', '있다', '말함', '.', 'Both', 'ankle', '.', 'great', 'toe', 'dorsiflexion', 'Rt', '(', '5', ')/', 'Lt', '(', '4', ').', 'Rt', '(', '5', ')/', 'Lt', '(', '4', ').', '하다', 'motor', 'grade', '(', '4~5', ')', 'checked', '.', 'Both', 'leg', 'dull', 'sense', '없다', '.', '콜벨', '사', '용법', '및', '낙상', '주의', '설명', '함', '.', '기저귀', '에', '변', '지리다', '양상', '으로', '지속', '적임', '.', '처방', '되다', '변비', '약', '중단', '하다', '의사', '문자', '로', '알림', '.', '항문', '쓰리다', '있다', '.', '의사', '문자', '로', '알림', '.'], ['간간히', '병실', '밖', '으로', '나오다', '화장실', '가다', '모습', '관찰', '되다', '지남력', '없다', '.', '환자', '에게', '시간', '.', '장소', '및', '사람', '에', '대한', '오리엔테이션', '준', '후', '낙상', '예방', '위해', '침상', '난간', '올리다', '조고', '낙상', '위험성', '에', '대해', '강조', '하다', '교육', '함']]\n"
          ]
        }
      ]
    },
    {
      "cell_type": "code",
      "source": [
        "X_test = []\n",
        "for sentence in tqdm(test_data['anonym']):\n",
        "    tokenized_sentence = okt.morphs(sentence, stem=True) # 토큰화\n",
        "    stopwords_removed_sentence = [word for word in tokenized_sentence if not word in stopwords] # 불용어 제거\n",
        "    X_test.append(stopwords_removed_sentence)"
      ],
      "metadata": {
        "colab": {
          "base_uri": "https://localhost:8080/"
        },
        "id": "J3JchSSV5ZXC",
        "outputId": "b816b2fe-0be5-4da5-b597-65f81a5bb651"
      },
      "execution_count": 27,
      "outputs": [
        {
          "output_type": "stream",
          "name": "stderr",
          "text": [
            "100%|██████████| 6896/6896 [00:40<00:00, 169.10it/s]\n"
          ]
        }
      ]
    },
    {
      "cell_type": "markdown",
      "source": [
        "4. 인코딩"
      ],
      "metadata": {
        "id": "isvhrcJUStWY"
      }
    },
    {
      "cell_type": "code",
      "source": [
        "tokenizer = Tokenizer()\n",
        "tokenizer.fit_on_texts(X_train) #각 단어에 고유한 정수 부여여"
      ],
      "metadata": {
        "id": "ZSAUqOtW5aey"
      },
      "execution_count": 28,
      "outputs": []
    },
    {
      "cell_type": "code",
      "source": [
        "#print(tokenizer.word_index)\n",
        "#가장 많이 나오는 단어들부터 작은 숫자가 매겨짐짐"
      ],
      "metadata": {
        "id": "srb7mwDG5bWd"
      },
      "execution_count": 29,
      "outputs": []
    },
    {
      "cell_type": "code",
      "source": [
        "tokenizer = Tokenizer() \n",
        "tokenizer.fit_on_texts(X_train)\n",
        "X_train = tokenizer.texts_to_sequences(X_train)\n",
        "X_test = tokenizer.texts_to_sequences(X_test) \n",
        "#케라스 토크나이저의 인자로 넘겨주고 텍스트 시퀀스를 정수 시퀀스로 변환합니다."
      ],
      "metadata": {
        "id": "X_k7N_eu5cWi"
      },
      "execution_count": 30,
      "outputs": []
    },
    {
      "cell_type": "code",
      "source": [
        "print(X_train[:3]) #각 샘플 내의 단어들은 각 단어에 대한 정수로 변환된 것을 확인"
      ],
      "metadata": {
        "colab": {
          "base_uri": "https://localhost:8080/"
        },
        "id": "nfCJYP0_5dau",
        "outputId": "86b9f878-1e02-47e4-b9d0-88a5412b0444"
      },
      "execution_count": 31,
      "outputs": [
        {
          "output_type": "stream",
          "name": "stdout",
          "text": [
            "[[38, 220, 3, 22, 12, 132, 187, 35, 826, 3149, 233, 87, 1, 12], [89, 501, 904, 619, 48, 4, 158, 208, 52, 4, 1191, 8, 2, 1, 224, 92, 149, 48, 4, 40, 208, 52, 4, 1796, 8, 183, 1, 52, 264, 425, 221, 94, 37, 182, 1, 48, 501, 425, 221, 109, 503, 3, 14, 321, 1, 89, 288, 1, 392, 195, 294, 48, 4, 40, 208, 52, 4, 121, 32, 48, 4, 40, 208, 52, 4, 121, 32, 3, 92, 149, 4, 1341, 8, 183, 1, 89, 136, 455, 221, 13, 1, 155, 191, 214, 23, 6, 27, 29, 2, 1, 495, 5, 1137, 3354, 128, 7, 94, 328, 1, 65, 15, 3476, 413, 1455, 3, 20, 674, 11, 134, 1, 2344, 2038, 14, 1, 20, 674, 11, 134, 1], [1323, 44, 477, 7, 188, 38, 84, 90, 26, 15, 393, 13, 1, 9, 96, 106, 1, 163, 23, 186, 5, 601, 6484, 2192, 17, 6, 51, 47, 24, 75, 61, 10027, 6, 97, 5, 82, 318, 3, 33, 2]]\n"
          ]
        }
      ]
    },
    {
      "cell_type": "code",
      "source": [
        "y_train = np.array(train_data['label'])\n",
        "y_test = np.array(test_data['label'])\n"
      ],
      "metadata": {
        "id": "qfUFIRY05eoS"
      },
      "execution_count": 32,
      "outputs": []
    },
    {
      "cell_type": "markdown",
      "source": [
        "5. 패딩작업"
      ],
      "metadata": {
        "id": "1sgFH1eGSu9d"
      }
    },
    {
      "cell_type": "markdown",
      "source": [
        "서로 다른 길이 샘플들의 길이를 패딩작업 시작.\n"
      ],
      "metadata": {
        "id": "8YxExW8iMl-m"
      }
    },
    {
      "cell_type": "code",
      "source": [
        "print('데이터의 최대 길이 :',max(len(review) for review in X_train))\n",
        "print('데이터터의 평균 길이 :',sum(map(len, X_train))/len(X_train))\n",
        "plt.hist([len(review) for review in X_train], bins=50)\n",
        "plt.xlabel('length of samples')\n",
        "plt.ylabel('number of samples')\n",
        "plt.show()\n",
        "#서로다른 길이를 맞추기 위해 패딩작업 진행 120이하로 구성.가장 많은 구성은 약 25정도."
      ],
      "metadata": {
        "colab": {
          "base_uri": "https://localhost:8080/",
          "height": 315
        },
        "id": "aXSsAqVh5fji",
        "outputId": "8bde4d3a-1ea2-4665-c0c6-03d482904d5f"
      },
      "execution_count": 33,
      "outputs": [
        {
          "output_type": "stream",
          "name": "stdout",
          "text": [
            "데이터의 최대 길이 : 513\n",
            "데이터터의 평균 길이 : 54.350854290650794\n"
          ]
        },
        {
          "output_type": "display_data",
          "data": {
            "text/plain": [
              "<Figure size 432x288 with 1 Axes>"
            ],
            "image/png": "[encoded data removed]"
          },
          "metadata": {
            "needs_background": "light"
          }
        }
      ]
    },
    {
      "cell_type": "code",
      "source": [
        "def below_threshold_len(max_len, nested_list):\n",
        "  count = 0\n",
        "  for sentence in nested_list:\n",
        "    if(len(sentence) <= max_len):\n",
        "        count = count + 1\n",
        "  print('전체 샘플 중 길이가 %s 이하인 샘플의 비율: %s'%(max_len, (count / len(nested_list))*100))"
      ],
      "metadata": {
        "id": "Gem6VWRWMwK_"
      },
      "execution_count": 34,
      "outputs": []
    },
    {
      "cell_type": "code",
      "source": [
        "max_len = 220\n",
        "below_threshold_len(max_len, X_train)"
      ],
      "metadata": {
        "colab": {
          "base_uri": "https://localhost:8080/"
        },
        "id": "vYb68i5m5mPp",
        "outputId": "671fb972-26e3-45af-ea18-7cc0888396a3"
      },
      "execution_count": 35,
      "outputs": [
        {
          "output_type": "stream",
          "name": "stdout",
          "text": [
            "전체 샘플 중 길이가 220 이하인 샘플의 비율: 99.45862929545018\n"
          ]
        }
      ]
    },
    {
      "cell_type": "markdown",
      "source": [
        "훈련용 데이터 99.45가 220이하의 길이를 가지므로 훈련용 데이터를 길이 220으로 패딩합니다.\n"
      ],
      "metadata": {
        "id": "KTLq2dzGNO61"
      }
    },
    {
      "cell_type": "code",
      "source": [
        "X_train = pad_sequences(X_train, maxlen=max_len)\n",
        "X_test = pad_sequences(X_test, maxlen=max_len)"
      ],
      "metadata": {
        "id": "9lm4epelq8iT"
      },
      "execution_count": 36,
      "outputs": []
    },
    {
      "cell_type": "code",
      "source": [
        "vocab_size = len(tokenizer.word_index) + 1"
      ],
      "metadata": {
        "id": "O-8j4ysKoUWe"
      },
      "execution_count": 37,
      "outputs": []
    },
    {
      "cell_type": "code",
      "source": [
        "from tensorflow.keras.layers import Embedding, Dense, LSTM\n",
        "from tensorflow.keras.models import Sequential\n",
        "from tensorflow.keras.models import load_model\n",
        "from tensorflow.keras.callbacks import EarlyStopping, ModelCheckpoint\n",
        "\n",
        "embedding_dim = 100\n",
        "hidden_units = 128\n",
        "\n",
        "model = Sequential()\n",
        "model.add(Embedding( vocab_size , embedding_dim))\n",
        "model.add(LSTM(hidden_units))\n",
        "model.add(Dense(1, activation='sigmoid'))\n",
        "\n",
        "es = EarlyStopping(monitor='val_loss', mode='min', verbose=1, patience=4)\n",
        "mc = ModelCheckpoint('best_model.h5', monitor='val_acc', mode='max', verbose=1, save_best_only=True)\n",
        "\n",
        "# model.compile(optimizer='rmsprop', loss='binary_crossentropy', metrics=['acc'])\n",
        "model.compile(optimizer='rmsprop', loss='binary_crossentropy', \n",
        "              metrics=[tf.keras.metrics.Precision(name='precision'),\n",
        "                      tf.keras.metrics.Recall(name='recall'),\n",
        "                      tf.keras.metrics.FalsePositives(name='false_positives'),\n",
        "                      tf.keras.metrics.FalseNegatives(name='false_negatives'),\n",
        "                      'accuracy'],\n",
        "              )\n",
        "history = model.fit(X_train, y_train, epochs=9, callbacks=[es, mc], batch_size=64, validation_split=0.2)"
      ],
      "metadata": {
        "colab": {
          "base_uri": "https://localhost:8080/"
        },
        "id": "Ofve3zP8pIna",
        "outputId": "eb63101a-a67f-41fa-8bcb-d8f37b8d4c1a"
      },
      "execution_count": 38,
      "outputs": [
        {
          "output_type": "stream",
          "name": "stdout",
          "text": [
            "Epoch 1/9\n",
            "323/326 [============================>.] - ETA: 0s - loss: 0.1077 - precision: 0.9629 - recall: 0.9228 - false_positives: 228.0000 - false_negatives: 495.0000 - accuracy: 0.9650"
          ]
        },
        {
          "output_type": "stream",
          "name": "stderr",
          "text": [
            "WARNING:tensorflow:Can save best model only with val_acc available, skipping.\n"
          ]
        },
        {
          "output_type": "stream",
          "name": "stdout",
          "text": [
            "\b\b\b\b\b\b\b\b\b\b\b\b\b\b\b\b\b\b\b\b\b\b\b\b\b\b\b\b\b\b\b\b\b\b\b\b\b\b\b\b\b\b\b\b\b\b\b\b\b\b\b\b\b\b\b\b\b\b\b\b\b\b\b\b\b\b\b\b\b\b\b\b\b\b\b\b\b\b\b\b\b\b\b\b\b\b\b\b\b\b\b\b\b\b\b\b\b\b\b\b\b\b\b\b\b\b\b\b\b\b\b\b\b\b\b\b\b\b\b\b\b\b\b\b\b\b\b\b\b\b\b\b\b\b\b\b\b\b\b\b\b\b\b\b\b\b\b\b\b\b\b\b\b\b\b\b\b\b\b\b\b\b\b\b\b\b\b\b\b\b\b\b\b\b\b\b\b\r326/326 [==============================] - 16s 23ms/step - loss: 0.1074 - precision: 0.9630 - recall: 0.9231 - false_positives: 229.0000 - false_negatives: 497.0000 - accuracy: 0.9652 - val_loss: 0.0485 - val_precision: 0.9661 - val_recall: 0.9840 - val_false_positives: 56.0000 - val_false_negatives: 26.0000 - val_accuracy: 0.9843\n",
            "Epoch 2/9\n",
            "323/326 [============================>.] - ETA: 0s - loss: 0.0459 - precision: 0.9782 - recall: 0.9816 - false_positives: 140.0000 - false_negatives: 118.0000 - accuracy: 0.9875"
          ]
        },
        {
          "output_type": "stream",
          "name": "stderr",
          "text": [
            "WARNING:tensorflow:Can save best model only with val_acc available, skipping.\n"
          ]
        },
        {
          "output_type": "stream",
          "name": "stdout",
          "text": [
            "\b\b\b\b\b\b\b\b\b\b\b\b\b\b\b\b\b\b\b\b\b\b\b\b\b\b\b\b\b\b\b\b\b\b\b\b\b\b\b\b\b\b\b\b\b\b\b\b\b\b\b\b\b\b\b\b\b\b\b\b\b\b\b\b\b\b\b\b\b\b\b\b\b\b\b\b\b\b\b\b\b\b\b\b\b\b\b\b\b\b\b\b\b\b\b\b\b\b\b\b\b\b\b\b\b\b\b\b\b\b\b\b\b\b\b\b\b\b\b\b\b\b\b\b\b\b\b\b\b\b\b\b\b\b\b\b\b\b\b\b\b\b\b\b\b\b\b\b\b\b\b\b\b\b\b\b\b\b\b\b\b\b\b\b\b\b\b\b\b\b\b\b\b\b\b\b\b\r326/326 [==============================] - 6s 19ms/step - loss: 0.0457 - precision: 0.9784 - recall: 0.9817 - false_positives: 140.0000 - false_negatives: 118.0000 - accuracy: 0.9876 - val_loss: 0.0436 - val_precision: 0.9771 - val_recall: 0.9759 - val_false_positives: 37.0000 - val_false_negatives: 39.0000 - val_accuracy: 0.9854\n",
            "Epoch 3/9\n",
            "323/326 [============================>.] - ETA: 0s - loss: 0.0364 - precision: 0.9823 - recall: 0.9863 - false_positives: 114.0000 - false_negatives: 88.0000 - accuracy: 0.9902"
          ]
        },
        {
          "output_type": "stream",
          "name": "stderr",
          "text": [
            "WARNING:tensorflow:Can save best model only with val_acc available, skipping.\n"
          ]
        },
        {
          "output_type": "stream",
          "name": "stdout",
          "text": [
            "\b\b\b\b\b\b\b\b\b\b\b\b\b\b\b\b\b\b\b\b\b\b\b\b\b\b\b\b\b\b\b\b\b\b\b\b\b\b\b\b\b\b\b\b\b\b\b\b\b\b\b\b\b\b\b\b\b\b\b\b\b\b\b\b\b\b\b\b\b\b\b\b\b\b\b\b\b\b\b\b\b\b\b\b\b\b\b\b\b\b\b\b\b\b\b\b\b\b\b\b\b\b\b\b\b\b\b\b\b\b\b\b\b\b\b\b\b\b\b\b\b\b\b\b\b\b\b\b\b\b\b\b\b\b\b\b\b\b\b\b\b\b\b\b\b\b\b\b\b\b\b\b\b\b\b\b\b\b\b\b\b\b\b\b\b\b\b\b\b\b\b\b\b\b\b\b\r326/326 [==============================] - 6s 19ms/step - loss: 0.0362 - precision: 0.9824 - recall: 0.9864 - false_positives: 114.0000 - false_negatives: 88.0000 - accuracy: 0.9903 - val_loss: 0.0449 - val_precision: 0.9742 - val_recall: 0.9784 - val_false_positives: 42.0000 - val_false_negatives: 35.0000 - val_accuracy: 0.9852\n",
            "Epoch 4/9\n",
            "326/326 [==============================] - ETA: 0s - loss: 0.0318 - precision: 0.9821 - recall: 0.9875 - false_positives: 116.0000 - false_negatives: 81.0000 - accuracy: 0.9905"
          ]
        },
        {
          "output_type": "stream",
          "name": "stderr",
          "text": [
            "WARNING:tensorflow:Can save best model only with val_acc available, skipping.\n"
          ]
        },
        {
          "output_type": "stream",
          "name": "stdout",
          "text": [
            "\b\b\b\b\b\b\b\b\b\b\b\b\b\b\b\b\b\b\b\b\b\b\b\b\b\b\b\b\b\b\b\b\b\b\b\b\b\b\b\b\b\b\b\b\b\b\b\b\b\b\b\b\b\b\b\b\b\b\b\b\b\b\b\b\b\b\b\b\b\b\b\b\b\b\b\b\b\b\b\b\b\b\b\b\b\b\b\b\b\b\b\b\b\b\b\b\b\b\b\b\b\b\b\b\b\b\b\b\b\b\b\b\b\b\b\b\b\b\b\b\b\b\b\b\b\b\b\b\b\b\b\b\b\b\b\b\b\b\b\b\b\b\b\b\b\b\b\b\b\b\b\b\b\b\b\b\b\b\b\b\b\b\b\b\b\b\b\b\b\b\b\b\b\b\b\b\r326/326 [==============================] - 6s 19ms/step - loss: 0.0318 - precision: 0.9821 - recall: 0.9875 - false_positives: 116.0000 - false_negatives: 81.0000 - accuracy: 0.9905 - val_loss: 0.0405 - val_precision: 0.9685 - val_recall: 0.9877 - val_false_positives: 52.0000 - val_false_negatives: 20.0000 - val_accuracy: 0.9862\n",
            "Epoch 5/9\n",
            "326/326 [==============================] - ETA: 0s - loss: 0.0282 - precision: 0.9838 - recall: 0.9892 - false_positives: 105.0000 - false_negatives: 70.0000 - accuracy: 0.9916"
          ]
        },
        {
          "output_type": "stream",
          "name": "stderr",
          "text": [
            "WARNING:tensorflow:Can save best model only with val_acc available, skipping.\n"
          ]
        },
        {
          "output_type": "stream",
          "name": "stdout",
          "text": [
            "\b\b\b\b\b\b\b\b\b\b\b\b\b\b\b\b\b\b\b\b\b\b\b\b\b\b\b\b\b\b\b\b\b\b\b\b\b\b\b\b\b\b\b\b\b\b\b\b\b\b\b\b\b\b\b\b\b\b\b\b\b\b\b\b\b\b\b\b\b\b\b\b\b\b\b\b\b\b\b\b\b\b\b\b\b\b\b\b\b\b\b\b\b\b\b\b\b\b\b\b\b\b\b\b\b\b\b\b\b\b\b\b\b\b\b\b\b\b\b\b\b\b\b\b\b\b\b\b\b\b\b\b\b\b\b\b\b\b\b\b\b\b\b\b\b\b\b\b\b\b\b\b\b\b\b\b\b\b\b\b\b\b\b\b\b\b\b\b\b\b\b\b\b\b\b\b\r326/326 [==============================] - 6s 19ms/step - loss: 0.0282 - precision: 0.9838 - recall: 0.9892 - false_positives: 105.0000 - false_negatives: 70.0000 - accuracy: 0.9916 - val_loss: 0.0379 - val_precision: 0.9756 - val_recall: 0.9870 - val_false_positives: 40.0000 - val_false_negatives: 21.0000 - val_accuracy: 0.9883\n",
            "Epoch 6/9\n",
            "326/326 [==============================] - ETA: 0s - loss: 0.0277 - precision: 0.9855 - recall: 0.9895 - false_positives: 94.0000 - false_negatives: 68.0000 - accuracy: 0.9922"
          ]
        },
        {
          "output_type": "stream",
          "name": "stderr",
          "text": [
            "WARNING:tensorflow:Can save best model only with val_acc available, skipping.\n"
          ]
        },
        {
          "output_type": "stream",
          "name": "stdout",
          "text": [
            "\b\b\b\b\b\b\b\b\b\b\b\b\b\b\b\b\b\b\b\b\b\b\b\b\b\b\b\b\b\b\b\b\b\b\b\b\b\b\b\b\b\b\b\b\b\b\b\b\b\b\b\b\b\b\b\b\b\b\b\b\b\b\b\b\b\b\b\b\b\b\b\b\b\b\b\b\b\b\b\b\b\b\b\b\b\b\b\b\b\b\b\b\b\b\b\b\b\b\b\b\b\b\b\b\b\b\b\b\b\b\b\b\b\b\b\b\b\b\b\b\b\b\b\b\b\b\b\b\b\b\b\b\b\b\b\b\b\b\b\b\b\b\b\b\b\b\b\b\b\b\b\b\b\b\b\b\b\b\b\b\b\b\b\b\b\b\b\b\b\b\b\b\b\b\b\r326/326 [==============================] - 7s 22ms/step - loss: 0.0277 - precision: 0.9855 - recall: 0.9895 - false_positives: 94.0000 - false_negatives: 68.0000 - accuracy: 0.9922 - val_loss: 0.0482 - val_precision: 0.9732 - val_recall: 0.9852 - val_false_positives: 44.0000 - val_false_negatives: 24.0000 - val_accuracy: 0.9869\n",
            "Epoch 7/9\n",
            "326/326 [==============================] - ETA: 0s - loss: 0.0244 - precision: 0.9866 - recall: 0.9907 - false_positives: 87.0000 - false_negatives: 60.0000 - accuracy: 0.9929"
          ]
        },
        {
          "output_type": "stream",
          "name": "stderr",
          "text": [
            "WARNING:tensorflow:Can save best model only with val_acc available, skipping.\n"
          ]
        },
        {
          "output_type": "stream",
          "name": "stdout",
          "text": [
            "\b\b\b\b\b\b\b\b\b\b\b\b\b\b\b\b\b\b\b\b\b\b\b\b\b\b\b\b\b\b\b\b\b\b\b\b\b\b\b\b\b\b\b\b\b\b\b\b\b\b\b\b\b\b\b\b\b\b\b\b\b\b\b\b\b\b\b\b\b\b\b\b\b\b\b\b\b\b\b\b\b\b\b\b\b\b\b\b\b\b\b\b\b\b\b\b\b\b\b\b\b\b\b\b\b\b\b\b\b\b\b\b\b\b\b\b\b\b\b\b\b\b\b\b\b\b\b\b\b\b\b\b\b\b\b\b\b\b\b\b\b\b\b\b\b\b\b\b\b\b\b\b\b\b\b\b\b\b\b\b\b\b\b\b\b\b\b\b\b\b\b\b\b\b\b\r326/326 [==============================] - 6s 19ms/step - loss: 0.0244 - precision: 0.9866 - recall: 0.9907 - false_positives: 87.0000 - false_negatives: 60.0000 - accuracy: 0.9929 - val_loss: 0.0523 - val_precision: 0.9725 - val_recall: 0.9833 - val_false_positives: 45.0000 - val_false_negatives: 27.0000 - val_accuracy: 0.9862\n",
            "Epoch 8/9\n",
            "326/326 [==============================] - ETA: 0s - loss: 0.0233 - precision: 0.9878 - recall: 0.9918 - false_positives: 79.0000 - false_negatives: 53.0000 - accuracy: 0.9937"
          ]
        },
        {
          "output_type": "stream",
          "name": "stderr",
          "text": [
            "WARNING:tensorflow:Can save best model only with val_acc available, skipping.\n"
          ]
        },
        {
          "output_type": "stream",
          "name": "stdout",
          "text": [
            "\b\b\b\b\b\b\b\b\b\b\b\b\b\b\b\b\b\b\b\b\b\b\b\b\b\b\b\b\b\b\b\b\b\b\b\b\b\b\b\b\b\b\b\b\b\b\b\b\b\b\b\b\b\b\b\b\b\b\b\b\b\b\b\b\b\b\b\b\b\b\b\b\b\b\b\b\b\b\b\b\b\b\b\b\b\b\b\b\b\b\b\b\b\b\b\b\b\b\b\b\b\b\b\b\b\b\b\b\b\b\b\b\b\b\b\b\b\b\b\b\b\b\b\b\b\b\b\b\b\b\b\b\b\b\b\b\b\b\b\b\b\b\b\b\b\b\b\b\b\b\b\b\b\b\b\b\b\b\b\b\b\b\b\b\b\b\b\b\b\b\b\b\b\b\b\r326/326 [==============================] - 6s 19ms/step - loss: 0.0233 - precision: 0.9878 - recall: 0.9918 - false_positives: 79.0000 - false_negatives: 53.0000 - accuracy: 0.9937 - val_loss: 0.0553 - val_precision: 0.9806 - val_recall: 0.9698 - val_false_positives: 31.0000 - val_false_negatives: 49.0000 - val_accuracy: 0.9846\n",
            "Epoch 9/9\n",
            "324/326 [============================>.] - ETA: 0s - loss: 0.0217 - precision: 0.9890 - recall: 0.9905 - false_positives: 71.0000 - false_negatives: 61.0000 - accuracy: 0.9936"
          ]
        },
        {
          "output_type": "stream",
          "name": "stderr",
          "text": [
            "WARNING:tensorflow:Can save best model only with val_acc available, skipping.\n"
          ]
        },
        {
          "output_type": "stream",
          "name": "stdout",
          "text": [
            "\b\b\b\b\b\b\b\b\b\b\b\b\b\b\b\b\b\b\b\b\b\b\b\b\b\b\b\b\b\b\b\b\b\b\b\b\b\b\b\b\b\b\b\b\b\b\b\b\b\b\b\b\b\b\b\b\b\b\b\b\b\b\b\b\b\b\b\b\b\b\b\b\b\b\b\b\b\b\b\b\b\b\b\b\b\b\b\b\b\b\b\b\b\b\b\b\b\b\b\b\b\b\b\b\b\b\b\b\b\b\b\b\b\b\b\b\b\b\b\b\b\b\b\b\b\b\b\b\b\b\b\b\b\b\b\b\b\b\b\b\b\b\b\b\b\b\b\b\b\b\b\b\b\b\b\b\b\b\b\b\b\b\b\b\b\b\b\b\b\b\b\b\b\b\b\r326/326 [==============================] - 6s 19ms/step - loss: 0.0218 - precision: 0.9889 - recall: 0.9906 - false_positives: 72.0000 - false_negatives: 61.0000 - accuracy: 0.9936 - val_loss: 0.0379 - val_precision: 0.9749 - val_recall: 0.9821 - val_false_positives: 41.0000 - val_false_negatives: 29.0000 - val_accuracy: 0.9866\n",
            "Epoch 9: early stopping\n"
          ]
        }
      ]
    },
    {
      "cell_type": "code",
      "source": [
        "model.save(\"my_model.h5\")\n",
        "#케라스형식 모델 저장 (bestmodel.h5에 자동 저장이 안되기 때문에에)"
      ],
      "metadata": {
        "id": "dAFSafn2rdGC"
      },
      "execution_count": 39,
      "outputs": []
    },
    {
      "cell_type": "code",
      "source": [
        "loaded_model = load_model('my_model.h5')\n",
        "print(\"\\n 테스트 정확도: %.4f\" % (loaded_model.evaluate(X_test, y_test)[1]))"
      ],
      "metadata": {
        "colab": {
          "base_uri": "https://localhost:8080/"
        },
        "id": "Xel-0DUurdIA",
        "outputId": "2f4501a1-830b-4e4c-886e-81ce056fba4d"
      },
      "execution_count": 40,
      "outputs": [
        {
          "output_type": "stream",
          "name": "stdout",
          "text": [
            "216/216 [==============================] - 2s 8ms/step - loss: 0.0332 - precision: 0.9832 - recall: 0.9817 - false_positives: 34.0000 - false_negatives: 37.0000 - accuracy: 0.9897\n",
            "\n",
            " 테스트 정확도: 0.9832\n"
          ]
        }
      ]
    },
    {
      "cell_type": "code",
      "source": [
        "def fall_predict(new_sentence):\n",
        "  new_sentence = re.sub(r'[^ㄱ-ㅎㅏ-ㅣ가-힣 ]','', new_sentence)\n",
        "  new_sentence = okt.morphs(new_sentence, stem=True) # 토큰화\n",
        "  new_sentence = [word for word in new_sentence if not word in stopwords] # 불용어 제거\n",
        "  encoded = tokenizer.texts_to_sequences([new_sentence]) # 정수 인코딩\n",
        "  pad_new = pad_sequences(encoded, maxlen = max_len) # 패딩\n",
        "  score = float(loaded_model.predict(pad_new)) # 예측\n",
        "  if(score > 0.5):\n",
        "    print(\"{:.2f}% 확률로 낙상사고입니다.\\n\".format(score * 100))\n",
        "  else:\n",
        "    print(\"{:.2f}% 확률로 낙상사고가 아닙니다.\\n\".format((1 - score) * 100))\n",
        "#(기본 구성이자 흐름)"
      ],
      "metadata": {
        "id": "yzJO9l3xrj87"
      },
      "execution_count": 41,
      "outputs": []
    },
    {
      "cell_type": "code",
      "source": [
        "fall_predict('와 이거 실화냐? 진짜 가슴이 웅장해진다 내가 생각했던 그 나투로와 사스케가 맞냐? 정말 세계관 최강자들의 싸움이다')"
      ],
      "metadata": {
        "colab": {
          "base_uri": "https://localhost:8080/"
        },
        "id": "ps1DPKe2rm4i",
        "outputId": "34c819dd-c72f-4f14-f1e9-52e44969eebc"
      },
      "execution_count": 42,
      "outputs": [
        {
          "output_type": "stream",
          "name": "stdout",
          "text": [
            "1/1 [==============================] - 0s 346ms/step\n",
            "89.74% 확률로 낙상사고가 아닙니다.\n",
            "\n"
          ]
        }
      ]
    },
    {
      "cell_type": "code",
      "source": [
        "fall_predict('병실에 보호자(아들) 있었으나 수면 중이었으며 올려져 있는 side rail사이의 54cm(발치 쪽)사이로 내려오다가  왼쪽 옆구리를 부딪힌 후 환자  움직이는 소리에 잠에서 깨어난 보호자와 함께 화장실 다녀 왔다함. 낙상 시 side rail에  Lt. flank 부딪혀 통증 있어 X-ray 촬영 후 협진 본 후 진통제 처방 남.')\n"
      ],
      "metadata": {
        "colab": {
          "base_uri": "https://localhost:8080/"
        },
        "id": "CK02Ze8jrqjq",
        "outputId": "5f0f2e74-4c2e-48c0-c7a0-3e8edca1592d"
      },
      "execution_count": 43,
      "outputs": [
        {
          "output_type": "stream",
          "name": "stdout",
          "text": [
            "1/1 [==============================] - 0s 26ms/step\n",
            "99.10% 확률로 낙상사고입니다.\n",
            "\n"
          ]
        }
      ]
    },
    {
      "cell_type": "markdown",
      "source": [
        "#F1_SCORE는 0.9824 "
      ],
      "metadata": {
        "id": "xnnsM6JTTgdM"
      }
    },
    {
      "cell_type": "code",
      "source": [],
      "metadata": {
        "id": "6rYKxpGC1IFI"
      },
      "execution_count": null,
      "outputs": []
    }
  ]
}